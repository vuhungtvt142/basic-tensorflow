{
  "nbformat": 4,
  "nbformat_minor": 0,
  "metadata": {
    "accelerator": "GPU",
    "colab": {
      "name": "C3W4-1-Shakespeare-Tokenizer-Embedding-LSTM-Dropouts-Regularizers",
      "provenance": [],
      "collapsed_sections": [],
      "include_colab_link": true
    },
    "kernelspec": {
      "display_name": "Python 3",
      "name": "python3"
    }
  },
  "cells": [
    {
      "cell_type": "markdown",
      "metadata": {
        "id": "view-in-github",
        "colab_type": "text"
      },
      "source": [
        "<a href=\"https://colab.research.google.com/github/georgezoto/TensorFlow-in-Practice/blob/master/C3W4_1_Shakespeare_Tokenizer_Embedding_LSTM_Dropouts_Regularizers.ipynb\" target=\"_parent\"><img src=\"https://colab.research.google.com/assets/colab-badge.svg\" alt=\"Open In Colab\"/></a>"
      ]
    },
    {
      "cell_type": "code",
      "metadata": {
        "id": "zX4Kg8DUTKWO",
        "colab_type": "code",
        "colab": {}
      },
      "source": [
        "#@title Licensed under the Apache License, Version 2.0 (the \"License\");\n",
        "# you may not use this file except in compliance with the License.\n",
        "# You may obtain a copy of the License at\n",
        "#\n",
        "# https://www.apache.org/licenses/LICENSE-2.0\n",
        "#\n",
        "# Unless required by applicable law or agreed to in writing, software\n",
        "# distributed under the License is distributed on an \"AS IS\" BASIS,\n",
        "# WITHOUT WARRANTIES OR CONDITIONS OF ANY KIND, either express or implied.\n",
        "# See the License for the specific language governing permissions and\n",
        "# limitations under the License."
      ],
      "execution_count": 0,
      "outputs": []
    },
    {
      "cell_type": "code",
      "metadata": {
        "colab_type": "code",
        "id": "BOwsuGQQY9OL",
        "colab": {}
      },
      "source": [
        "from tensorflow.keras.preprocessing.sequence import pad_sequences\n",
        "from tensorflow.keras.layers import Embedding, LSTM, Dense, Dropout, Bidirectional\n",
        "from tensorflow.keras.preprocessing.text import Tokenizer\n",
        "from tensorflow.keras.models import Sequential\n",
        "from tensorflow.keras.optimizers import Adam\n",
        "### YOUR CODE HERE\n",
        "from tensorflow.keras import regularizers\n",
        "###\n",
        "import tensorflow.keras.utils as ku \n",
        "import numpy as np "
      ],
      "execution_count": 0,
      "outputs": []
    },
    {
      "cell_type": "code",
      "metadata": {
        "colab_type": "code",
        "id": "PRnDnCW-Z7qv",
        "outputId": "4e7d9f43-f277-4879-9e63-c41bc5b318b0",
        "colab": {
          "base_uri": "https://localhost:8080/",
          "height": 204
        }
      },
      "source": [
        "tokenizer = Tokenizer()\n",
        "!wget --no-check-certificate \\\n",
        "    https://storage.googleapis.com/laurencemoroney-blog.appspot.com/sonnets.txt \\\n",
        "    -O /tmp/sonnets.txt"
      ],
      "execution_count": 0,
      "outputs": [
        {
          "output_type": "stream",
          "text": [
            "--2020-04-24 16:54:47--  https://storage.googleapis.com/laurencemoroney-blog.appspot.com/sonnets.txt\n",
            "Resolving storage.googleapis.com (storage.googleapis.com)... 172.217.14.112, 2607:f8b0:4007:802::2010\n",
            "Connecting to storage.googleapis.com (storage.googleapis.com)|172.217.14.112|:443... connected.\n",
            "HTTP request sent, awaiting response... 200 OK\n",
            "Length: 93578 (91K) [text/plain]\n",
            "Saving to: ‘/tmp/sonnets.txt’\n",
            "\n",
            "\r/tmp/sonnets.txt      0%[                    ]       0  --.-KB/s               \r/tmp/sonnets.txt    100%[===================>]  91.38K  --.-KB/s    in 0.001s  \n",
            "\n",
            "2020-04-24 16:54:47 (152 MB/s) - ‘/tmp/sonnets.txt’ saved [93578/93578]\n",
            "\n"
          ],
          "name": "stdout"
        }
      ]
    },
    {
      "cell_type": "code",
      "metadata": {
        "id": "KBvxloSRD2qb",
        "colab_type": "code",
        "outputId": "ead295fe-7bb6-48e8-874f-35b93dd9edd5",
        "colab": {
          "base_uri": "https://localhost:8080/",
          "height": 34
        }
      },
      "source": [
        "data = open('/tmp/sonnets.txt').read()\n",
        "\n",
        "corpus = data.lower().split(\"\\n\")\n",
        "print(corpus[:3])\n",
        "\n",
        "tokenizer.fit_on_texts(corpus)\n",
        "total_words = len(tokenizer.word_index) + 1"
      ],
      "execution_count": 0,
      "outputs": [
        {
          "output_type": "stream",
          "text": [
            "['from fairest creatures we desire increase,', \"that thereby beauty's rose might never die,\", 'but as the riper should by time decease,']\n"
          ],
          "name": "stdout"
        }
      ]
    },
    {
      "cell_type": "code",
      "metadata": {
        "id": "4I_YrBNlD67D",
        "colab_type": "code",
        "colab": {}
      },
      "source": [
        "# create input sequences using list of tokens\n",
        "input_sequences = []\n",
        "for line in corpus:\n",
        "  #print([line])\n",
        "  #print(tokenizer.texts_to_sequences([line]))\n",
        "  #print(tokenizer.texts_to_sequences([line])[0])\n",
        "  #break\n",
        "  token_list = tokenizer.texts_to_sequences([line])[0]\n",
        "  for i in range(1, len(token_list)):\n",
        "    n_gram_sequence = token_list[:i+1]\n",
        "    input_sequences.append(n_gram_sequence)\n",
        "\n",
        "\n",
        "# pad sequences \n",
        "max_sequence_len = max([len(x) for x in input_sequences])\n",
        "input_sequences = np.array(pad_sequences(input_sequences, maxlen=max_sequence_len, padding='pre'))\n",
        "\n",
        "# create predictors and label\n",
        "predictors, label = input_sequences[:,:-1],input_sequences[:,-1]"
      ],
      "execution_count": 0,
      "outputs": []
    },
    {
      "cell_type": "code",
      "metadata": {
        "id": "1lk080yTD69L",
        "colab_type": "code",
        "colab": {}
      },
      "source": [
        "#https://keras.io/api/utils/python_utils/#to_categorical-function\n",
        "label = ku.to_categorical(label, num_classes=total_words)"
      ],
      "execution_count": 0,
      "outputs": []
    },
    {
      "cell_type": "code",
      "metadata": {
        "id": "wlIcZj3MEtwy",
        "colab_type": "code",
        "outputId": "0dfc1474-c88b-42e8-e0f9-a350b9533d69",
        "colab": {
          "base_uri": "https://localhost:8080/",
          "height": 34
        }
      },
      "source": [
        "label[0]"
      ],
      "execution_count": 0,
      "outputs": [
        {
          "output_type": "execute_result",
          "data": {
            "text/plain": [
              "array([0., 0., 0., ..., 0., 0., 0.], dtype=float32)"
            ]
          },
          "metadata": {
            "tags": []
          },
          "execution_count": 30
        }
      ]
    },
    {
      "cell_type": "code",
      "metadata": {
        "id": "NWZu2wFPEoPd",
        "colab_type": "code",
        "outputId": "6d5bf389-79e1-4eff-c471-409da3c97922",
        "colab": {
          "base_uri": "https://localhost:8080/",
          "height": 34
        }
      },
      "source": [
        "len(label[0])"
      ],
      "execution_count": 0,
      "outputs": [
        {
          "output_type": "execute_result",
          "data": {
            "text/plain": [
              "3211"
            ]
          },
          "metadata": {
            "tags": []
          },
          "execution_count": 31
        }
      ]
    },
    {
      "cell_type": "code",
      "metadata": {
        "id": "m-FPM71JFnRZ",
        "colab_type": "code",
        "outputId": "72f6ef8a-637c-4c0c-dd71-0c88c0bace36",
        "colab": {
          "base_uri": "https://localhost:8080/",
          "height": 34
        }
      },
      "source": [
        "total_words"
      ],
      "execution_count": 0,
      "outputs": [
        {
          "output_type": "execute_result",
          "data": {
            "text/plain": [
              "3211"
            ]
          },
          "metadata": {
            "tags": []
          },
          "execution_count": 32
        }
      ]
    },
    {
      "cell_type": "code",
      "metadata": {
        "colab_type": "code",
        "id": "w9vH8Y59ajYL",
        "outputId": "ec69f1e6-f7d8-430d-a410-010a2d479ae6",
        "colab": {
          "base_uri": "https://localhost:8080/",
          "height": 374
        }
      },
      "source": [
        "model = Sequential()\n",
        "model.add(Embedding(input_dim=total_words, output_dim=100, input_length=max_sequence_len-1))\n",
        "model.add(Bidirectional(LSTM(150, return_sequences=True)))\n",
        "model.add(Dropout(0.2))\n",
        "model.add(LSTM(100))\n",
        "model.add(Dense(total_words/2, activation='relu', kernel_regularizer=regularizers.l2(0.01)))\n",
        "model.add(Dense(total_words, activation='softmax'))\n",
        "\n",
        "my_optimizer = Adam(learning_rate=0.001)\n",
        "model.compile(loss='categorical_crossentropy', optimizer=my_optimizer, metrics=['accuracy'])\n",
        "\n",
        "print(model.summary())"
      ],
      "execution_count": 0,
      "outputs": [
        {
          "output_type": "stream",
          "text": [
            "Model: \"sequential_3\"\n",
            "_________________________________________________________________\n",
            "Layer (type)                 Output Shape              Param #   \n",
            "=================================================================\n",
            "embedding_3 (Embedding)      (None, 10, 100)           321100    \n",
            "_________________________________________________________________\n",
            "bidirectional_6 (Bidirection (None, 10, 300)           301200    \n",
            "_________________________________________________________________\n",
            "dropout_3 (Dropout)          (None, 10, 300)           0         \n",
            "_________________________________________________________________\n",
            "lstm_7 (LSTM)                (None, 100)               160400    \n",
            "_________________________________________________________________\n",
            "dense_4 (Dense)              (None, 1605)              162105    \n",
            "_________________________________________________________________\n",
            "dense_5 (Dense)              (None, 3211)              5156866   \n",
            "=================================================================\n",
            "Total params: 6,101,671\n",
            "Trainable params: 6,101,671\n",
            "Non-trainable params: 0\n",
            "_________________________________________________________________\n",
            "None\n"
          ],
          "name": "stdout"
        }
      ]
    },
    {
      "cell_type": "code",
      "metadata": {
        "colab_type": "code",
        "id": "AIg2f1HBxqof",
        "outputId": "32dad8da-a475-444b-dc21-a5934258dcb5",
        "colab": {
          "base_uri": "https://localhost:8080/",
          "height": 1000
        }
      },
      "source": [
        "history = model.fit(predictors, label, epochs=100, verbose=1)"
      ],
      "execution_count": 0,
      "outputs": [
        {
          "output_type": "stream",
          "text": [
            "Epoch 1/100\n",
            "484/484 [==============================] - 6s 12ms/step - loss: 5.6682 - accuracy: 0.0564\n",
            "Epoch 2/100\n",
            "484/484 [==============================] - 6s 12ms/step - loss: 5.5644 - accuracy: 0.0653\n",
            "Epoch 3/100\n",
            "484/484 [==============================] - 6s 12ms/step - loss: 5.4746 - accuracy: 0.0687\n",
            "Epoch 4/100\n",
            "484/484 [==============================] - 6s 12ms/step - loss: 5.3714 - accuracy: 0.0761\n",
            "Epoch 5/100\n",
            "484/484 [==============================] - 6s 12ms/step - loss: 5.2699 - accuracy: 0.0823\n",
            "Epoch 6/100\n",
            "484/484 [==============================] - 6s 12ms/step - loss: 5.1707 - accuracy: 0.0894\n",
            "Epoch 7/100\n",
            "484/484 [==============================] - 6s 12ms/step - loss: 5.0740 - accuracy: 0.1002\n",
            "Epoch 8/100\n",
            "484/484 [==============================] - 6s 12ms/step - loss: 4.9721 - accuracy: 0.1068\n",
            "Epoch 9/100\n",
            "484/484 [==============================] - 6s 12ms/step - loss: 4.8807 - accuracy: 0.1138\n",
            "Epoch 10/100\n",
            "484/484 [==============================] - 6s 12ms/step - loss: 4.7824 - accuracy: 0.1260\n",
            "Epoch 11/100\n",
            "484/484 [==============================] - 6s 12ms/step - loss: 4.6837 - accuracy: 0.1360\n",
            "Epoch 12/100\n",
            "484/484 [==============================] - 6s 12ms/step - loss: 4.5882 - accuracy: 0.1440\n",
            "Epoch 13/100\n",
            "484/484 [==============================] - 6s 12ms/step - loss: 4.4890 - accuracy: 0.1555\n",
            "Epoch 14/100\n",
            "484/484 [==============================] - 6s 12ms/step - loss: 4.3745 - accuracy: 0.1693\n",
            "Epoch 15/100\n",
            "484/484 [==============================] - 6s 12ms/step - loss: 4.2824 - accuracy: 0.1785\n",
            "Epoch 16/100\n",
            "484/484 [==============================] - 6s 12ms/step - loss: 4.1904 - accuracy: 0.1931\n",
            "Epoch 17/100\n",
            "484/484 [==============================] - 6s 12ms/step - loss: 4.0830 - accuracy: 0.2051\n",
            "Epoch 18/100\n",
            "484/484 [==============================] - 6s 12ms/step - loss: 3.9772 - accuracy: 0.2203\n",
            "Epoch 19/100\n",
            "484/484 [==============================] - 6s 12ms/step - loss: 3.8847 - accuracy: 0.2354\n",
            "Epoch 20/100\n",
            "484/484 [==============================] - 6s 12ms/step - loss: 3.7842 - accuracy: 0.2521\n",
            "Epoch 21/100\n",
            "484/484 [==============================] - 6s 12ms/step - loss: 3.6994 - accuracy: 0.2668\n",
            "Epoch 22/100\n",
            "484/484 [==============================] - 6s 12ms/step - loss: 3.5931 - accuracy: 0.2868\n",
            "Epoch 23/100\n",
            "484/484 [==============================] - 6s 12ms/step - loss: 3.5113 - accuracy: 0.3035\n",
            "Epoch 24/100\n",
            "484/484 [==============================] - 6s 12ms/step - loss: 3.4228 - accuracy: 0.3202\n",
            "Epoch 25/100\n",
            "484/484 [==============================] - 6s 12ms/step - loss: 3.3420 - accuracy: 0.3378\n",
            "Epoch 26/100\n",
            "484/484 [==============================] - 6s 12ms/step - loss: 3.2673 - accuracy: 0.3569\n",
            "Epoch 27/100\n",
            "484/484 [==============================] - 6s 12ms/step - loss: 3.1884 - accuracy: 0.3732\n",
            "Epoch 28/100\n",
            "484/484 [==============================] - 6s 12ms/step - loss: 3.1033 - accuracy: 0.3904\n",
            "Epoch 29/100\n",
            "484/484 [==============================] - 6s 12ms/step - loss: 3.0384 - accuracy: 0.4045\n",
            "Epoch 30/100\n",
            "484/484 [==============================] - 6s 12ms/step - loss: 2.9588 - accuracy: 0.4251\n",
            "Epoch 31/100\n",
            "484/484 [==============================] - 6s 12ms/step - loss: 2.8917 - accuracy: 0.4399\n",
            "Epoch 32/100\n",
            "484/484 [==============================] - 6s 12ms/step - loss: 2.8310 - accuracy: 0.4532\n",
            "Epoch 33/100\n",
            "484/484 [==============================] - 6s 12ms/step - loss: 2.7758 - accuracy: 0.4635\n",
            "Epoch 34/100\n",
            "484/484 [==============================] - 6s 12ms/step - loss: 2.7130 - accuracy: 0.4807\n",
            "Epoch 35/100\n",
            "484/484 [==============================] - 6s 12ms/step - loss: 2.6554 - accuracy: 0.4924\n",
            "Epoch 36/100\n",
            "484/484 [==============================] - 6s 12ms/step - loss: 2.5997 - accuracy: 0.5082\n",
            "Epoch 37/100\n",
            "484/484 [==============================] - 6s 12ms/step - loss: 2.5421 - accuracy: 0.5151\n",
            "Epoch 38/100\n",
            "484/484 [==============================] - 6s 12ms/step - loss: 2.4914 - accuracy: 0.5285\n",
            "Epoch 39/100\n",
            "484/484 [==============================] - 6s 12ms/step - loss: 2.4422 - accuracy: 0.5413\n",
            "Epoch 40/100\n",
            "484/484 [==============================] - 6s 12ms/step - loss: 2.3856 - accuracy: 0.5485\n",
            "Epoch 41/100\n",
            "484/484 [==============================] - 6s 12ms/step - loss: 2.3452 - accuracy: 0.5623\n",
            "Epoch 42/100\n",
            "484/484 [==============================] - 6s 12ms/step - loss: 2.2964 - accuracy: 0.5711\n",
            "Epoch 43/100\n",
            "484/484 [==============================] - 6s 12ms/step - loss: 2.2496 - accuracy: 0.5814\n",
            "Epoch 44/100\n",
            "484/484 [==============================] - 6s 12ms/step - loss: 2.2215 - accuracy: 0.5891\n",
            "Epoch 45/100\n",
            "484/484 [==============================] - 6s 12ms/step - loss: 2.1712 - accuracy: 0.6034\n",
            "Epoch 46/100\n",
            "484/484 [==============================] - 6s 12ms/step - loss: 2.1210 - accuracy: 0.6101\n",
            "Epoch 47/100\n",
            "484/484 [==============================] - 6s 13ms/step - loss: 2.0850 - accuracy: 0.6191\n",
            "Epoch 48/100\n",
            "484/484 [==============================] - 6s 13ms/step - loss: 2.0475 - accuracy: 0.6285\n",
            "Epoch 49/100\n",
            "484/484 [==============================] - 6s 12ms/step - loss: 2.0123 - accuracy: 0.6348\n",
            "Epoch 50/100\n",
            "484/484 [==============================] - 6s 12ms/step - loss: 1.9768 - accuracy: 0.6444\n",
            "Epoch 51/100\n",
            "484/484 [==============================] - 6s 12ms/step - loss: 1.9433 - accuracy: 0.6499\n",
            "Epoch 52/100\n",
            "484/484 [==============================] - 6s 12ms/step - loss: 1.9172 - accuracy: 0.6550\n",
            "Epoch 53/100\n",
            "484/484 [==============================] - 6s 12ms/step - loss: 1.8831 - accuracy: 0.6620\n",
            "Epoch 54/100\n",
            "484/484 [==============================] - 6s 12ms/step - loss: 1.8411 - accuracy: 0.6734\n",
            "Epoch 55/100\n",
            "484/484 [==============================] - 6s 12ms/step - loss: 1.8184 - accuracy: 0.6770\n",
            "Epoch 56/100\n",
            "484/484 [==============================] - 6s 12ms/step - loss: 1.7982 - accuracy: 0.6793\n",
            "Epoch 57/100\n",
            "484/484 [==============================] - 6s 12ms/step - loss: 1.7684 - accuracy: 0.6883\n",
            "Epoch 58/100\n",
            "484/484 [==============================] - 6s 12ms/step - loss: 1.7396 - accuracy: 0.6907\n",
            "Epoch 59/100\n",
            "484/484 [==============================] - 6s 12ms/step - loss: 1.7080 - accuracy: 0.6980\n",
            "Epoch 60/100\n",
            "484/484 [==============================] - 6s 12ms/step - loss: 1.6925 - accuracy: 0.7027\n",
            "Epoch 61/100\n",
            "484/484 [==============================] - 6s 12ms/step - loss: 1.6774 - accuracy: 0.7037\n",
            "Epoch 62/100\n",
            "484/484 [==============================] - 6s 12ms/step - loss: 1.6312 - accuracy: 0.7144\n",
            "Epoch 63/100\n",
            "484/484 [==============================] - 6s 12ms/step - loss: 1.6200 - accuracy: 0.7167\n",
            "Epoch 64/100\n",
            "484/484 [==============================] - 6s 12ms/step - loss: 1.6055 - accuracy: 0.7174\n",
            "Epoch 65/100\n",
            "484/484 [==============================] - 6s 12ms/step - loss: 1.5676 - accuracy: 0.7253\n",
            "Epoch 66/100\n",
            "484/484 [==============================] - 6s 12ms/step - loss: 1.5443 - accuracy: 0.7340\n",
            "Epoch 67/100\n",
            "484/484 [==============================] - 6s 12ms/step - loss: 1.5164 - accuracy: 0.7393\n",
            "Epoch 68/100\n",
            "484/484 [==============================] - 6s 12ms/step - loss: 1.4968 - accuracy: 0.7421\n",
            "Epoch 69/100\n",
            "484/484 [==============================] - 6s 12ms/step - loss: 1.4979 - accuracy: 0.7391\n",
            "Epoch 70/100\n",
            "484/484 [==============================] - 6s 12ms/step - loss: 1.4890 - accuracy: 0.7387\n",
            "Epoch 71/100\n",
            "484/484 [==============================] - 6s 12ms/step - loss: 1.4622 - accuracy: 0.7444\n",
            "Epoch 72/100\n",
            "484/484 [==============================] - 6s 12ms/step - loss: 1.4361 - accuracy: 0.7477\n",
            "Epoch 73/100\n",
            "484/484 [==============================] - 6s 12ms/step - loss: 1.4230 - accuracy: 0.7529\n",
            "Epoch 74/100\n",
            "484/484 [==============================] - 6s 12ms/step - loss: 1.4118 - accuracy: 0.7566\n",
            "Epoch 75/100\n",
            "484/484 [==============================] - 6s 12ms/step - loss: 1.3859 - accuracy: 0.7623\n",
            "Epoch 76/100\n",
            "484/484 [==============================] - 6s 12ms/step - loss: 1.3740 - accuracy: 0.7625\n",
            "Epoch 77/100\n",
            "484/484 [==============================] - 6s 12ms/step - loss: 1.3673 - accuracy: 0.7599\n",
            "Epoch 78/100\n",
            "484/484 [==============================] - 6s 12ms/step - loss: 1.3408 - accuracy: 0.7698\n",
            "Epoch 79/100\n",
            "484/484 [==============================] - 6s 12ms/step - loss: 1.3303 - accuracy: 0.7698\n",
            "Epoch 80/100\n",
            "484/484 [==============================] - 6s 12ms/step - loss: 1.3200 - accuracy: 0.7733\n",
            "Epoch 81/100\n",
            "484/484 [==============================] - 6s 12ms/step - loss: 1.3032 - accuracy: 0.7754\n",
            "Epoch 82/100\n",
            "484/484 [==============================] - 6s 12ms/step - loss: 1.2901 - accuracy: 0.7752\n",
            "Epoch 83/100\n",
            "484/484 [==============================] - 6s 13ms/step - loss: 1.2814 - accuracy: 0.7781\n",
            "Epoch 84/100\n",
            "484/484 [==============================] - 6s 12ms/step - loss: 1.2731 - accuracy: 0.7780\n",
            "Epoch 85/100\n",
            "484/484 [==============================] - 6s 12ms/step - loss: 1.2693 - accuracy: 0.7777\n",
            "Epoch 86/100\n",
            "484/484 [==============================] - 6s 12ms/step - loss: 1.2523 - accuracy: 0.7818\n",
            "Epoch 87/100\n",
            "484/484 [==============================] - 6s 12ms/step - loss: 1.2257 - accuracy: 0.7883\n",
            "Epoch 88/100\n",
            "484/484 [==============================] - 6s 12ms/step - loss: 1.2077 - accuracy: 0.7912\n",
            "Epoch 89/100\n",
            "484/484 [==============================] - 6s 12ms/step - loss: 1.2114 - accuracy: 0.7911\n",
            "Epoch 90/100\n",
            "484/484 [==============================] - 6s 12ms/step - loss: 1.2119 - accuracy: 0.7883\n",
            "Epoch 91/100\n",
            "484/484 [==============================] - 6s 12ms/step - loss: 1.1963 - accuracy: 0.7884\n",
            "Epoch 92/100\n",
            "484/484 [==============================] - 6s 12ms/step - loss: 1.1909 - accuracy: 0.7942\n",
            "Epoch 93/100\n",
            "484/484 [==============================] - 6s 12ms/step - loss: 1.1948 - accuracy: 0.7881\n",
            "Epoch 94/100\n",
            "484/484 [==============================] - 6s 12ms/step - loss: 1.1661 - accuracy: 0.7971\n",
            "Epoch 95/100\n",
            "484/484 [==============================] - 6s 12ms/step - loss: 1.1476 - accuracy: 0.7974\n",
            "Epoch 96/100\n",
            "484/484 [==============================] - 6s 12ms/step - loss: 1.1390 - accuracy: 0.7992\n",
            "Epoch 97/100\n",
            "484/484 [==============================] - 6s 12ms/step - loss: 1.1367 - accuracy: 0.7984\n",
            "Epoch 98/100\n",
            "484/484 [==============================] - 6s 13ms/step - loss: 1.1323 - accuracy: 0.8000\n",
            "Epoch 99/100\n",
            "484/484 [==============================] - 6s 13ms/step - loss: 1.1167 - accuracy: 0.7999\n",
            "Epoch 100/100\n",
            "484/484 [==============================] - 6s 13ms/step - loss: 1.1205 - accuracy: 0.8018\n"
          ],
          "name": "stdout"
        }
      ]
    },
    {
      "cell_type": "code",
      "metadata": {
        "colab_type": "code",
        "id": "1fXTEO3GJ282",
        "outputId": "fd56354e-9a0b-4874-9774-d369a4b6cfce",
        "colab": {
          "base_uri": "https://localhost:8080/",
          "height": 545
        }
      },
      "source": [
        "import matplotlib.pyplot as plt\n",
        "acc = history.history['accuracy']\n",
        "loss = history.history['loss']\n",
        "\n",
        "epochs = range(len(acc))\n",
        "\n",
        "plt.plot(epochs, acc, 'b', label='Training accuracy')\n",
        "plt.title('Training accuracy')\n",
        "\n",
        "plt.figure()\n",
        "\n",
        "plt.plot(epochs, loss, 'b', label='Training Loss')\n",
        "plt.title('Training loss')\n",
        "plt.legend()\n",
        "\n",
        "plt.show()"
      ],
      "execution_count": 0,
      "outputs": [
        {
          "output_type": "display_data",
          "data": {
            "image/png": "[encoded data removed]",
            "text/plain": [
              "<Figure size 432x288 with 1 Axes>"
            ]
          },
          "metadata": {
            "tags": [],
            "needs_background": "light"
          }
        },
        {
          "output_type": "display_data",
          "data": {
            "image/png": "[encoded data removed]",
            "text/plain": [
              "<Figure size 432x288 with 1 Axes>"
            ]
          },
          "metadata": {
            "tags": [],
            "needs_background": "light"
          }
        }
      ]
    },
    {
      "cell_type": "code",
      "metadata": {
        "colab_type": "code",
        "id": "6Vc6PHgxa6Hm",
        "outputId": "1145f9f0-eb82-44b1-8349-6a1bbaa43757",
        "colab": {
          "base_uri": "https://localhost:8080/",
          "height": 54
        }
      },
      "source": [
        "seed_text = \"Help me Obi Wan Kenobi, you're my only hope\"\n",
        "next_words = 100\n",
        "  \n",
        "for _ in range(next_words):\n",
        "\ttoken_list = tokenizer.texts_to_sequences([seed_text])[0]\n",
        "\ttoken_list = pad_sequences([token_list], maxlen=max_sequence_len-1, padding='pre')\n",
        "\tpredicted = model.predict_classes(token_list, verbose=0)\n",
        "\toutput_word = \"\"\n",
        "\tfor word, index in tokenizer.word_index.items():\n",
        "\t\tif index == predicted:\n",
        "\t\t\toutput_word = word\n",
        "\t\t\tbreak\n",
        "\tseed_text += \" \" + output_word\n",
        "print(seed_text)"
      ],
      "execution_count": 0,
      "outputs": [
        {
          "output_type": "stream",
          "text": [
            "Help me Obi Wan Kenobi, you're my only hope thyself away desired be cross afford twain date of men ' doth groan ' be free free live away away your days here brought of one one more must grow of free ride hits green thee burn pleasure pleasure me of days much brought of pleasure pleasure of pleasure green die burn'd hits dwells beard ward fall by days another rolling ' doth ride ride ride ride ' her view free grew to ride cherish plight grow thus days did tell away away night exchanged mad so meant free his senses can alive pleasure ride ride light decease translate must\n"
          ],
          "name": "stdout"
        }
      ]
    },
    {
      "cell_type": "code",
      "metadata": {
        "id": "oliB864cIlGA",
        "colab_type": "code",
        "outputId": "2102ede6-8362-4182-9f10-7d227c833c30",
        "colab": {
          "base_uri": "https://localhost:8080/",
          "height": 54
        }
      },
      "source": [
        "\"Help me Obi Wan Kenobi, you're my only hope of every pen shows know confounds thine thine eye aside bright than gently cheeks express'd place in mind keep something new hate of die much date cheeks day was me away the rhyme ' may be bevel disdain erred light light stand bright ' write me flowers so look me doth grow ill old old glory still say thee but now come away a gainer his part torn torn away away ill young new date lies be express'd rare rare ill ill near feast so 'will ' hast me well seen live up memory prove keep invention spent kind check\""
      ],
      "execution_count": 0,
      "outputs": [
        {
          "output_type": "execute_result",
          "data": {
            "text/plain": [
              "\"Help me Obi Wan Kenobi, you're my only hope of every pen shows know confounds thine thine eye aside bright than gently cheeks express'd place in mind keep something new hate of die much date cheeks day was me away the rhyme ' may be bevel disdain erred light light stand bright ' write me flowers so look me doth grow ill old old glory still say thee but now come away a gainer his part torn torn away away ill young new date lies be express'd rare rare ill ill near feast so 'will ' hast me well seen live up memory prove keep invention spent kind check\""
            ]
          },
          "metadata": {
            "tags": []
          },
          "execution_count": 52
        }
      ]
    },
    {
      "cell_type": "code",
      "metadata": {
        "id": "zYWmvGg9OHmp",
        "colab_type": "code",
        "colab": {}
      },
      "source": [
        ""
      ],
      "execution_count": 0,
      "outputs": []
    }
  ]
}