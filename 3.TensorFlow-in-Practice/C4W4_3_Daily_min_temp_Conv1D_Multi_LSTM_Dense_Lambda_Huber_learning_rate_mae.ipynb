{
  "nbformat": 4,
  "nbformat_minor": 0,
  "metadata": {
    "accelerator": "GPU",
    "colab": {
      "name": "C4W4-3-Daily min temp-Conv1D Multi LSTM Dense Lambda-Huber-learning rate-mae",
      "provenance": [],
      "collapsed_sections": [],
      "include_colab_link": true
    },
    "kernelspec": {
      "display_name": "Python 3",
      "name": "python3"
    }
  },
  "cells": [
    {
      "cell_type": "markdown",
      "metadata": {
        "id": "view-in-github",
        "colab_type": "text"
      },
      "source": [
        "<a href=\"https://colab.research.google.com/github/georgezoto/TensorFlow-in-Practice/blob/master/C4W4_3_Daily_min_temp_Conv1D_Multi_LSTM_Dense_Lambda_Huber_learning_rate_mae.ipynb\" target=\"_parent\"><img src=\"https://colab.research.google.com/assets/colab-badge.svg\" alt=\"Open In Colab\"/></a>"
      ]
    },
    {
      "cell_type": "code",
      "metadata": {
        "id": "zX4Kg8DUTKWO",
        "colab_type": "code",
        "colab": {}
      },
      "source": [
        "#@title Licensed under the Apache License, Version 2.0 (the \"License\");\n",
        "# you may not use this file except in compliance with the License.\n",
        "# You may obtain a copy of the License at\n",
        "#\n",
        "# https://www.apache.org/licenses/LICENSE-2.0\n",
        "#\n",
        "# Unless required by applicable law or agreed to in writing, software\n",
        "# distributed under the License is distributed on an \"AS IS\" BASIS,\n",
        "# WITHOUT WARRANTIES OR CONDITIONS OF ANY KIND, either express or implied.\n",
        "# See the License for the specific language governing permissions and\n",
        "# limitations under the License."
      ],
      "execution_count": 0,
      "outputs": []
    },
    {
      "cell_type": "code",
      "metadata": {
        "colab_type": "code",
        "id": "56XEQOGknrAk",
        "outputId": "7dd4cb4b-c463-4e92-b801-c5cd4172e09d",
        "colab": {
          "base_uri": "https://localhost:8080/",
          "height": 34
        }
      },
      "source": [
        "import tensorflow as tf\n",
        "print(tf.__version__)"
      ],
      "execution_count": 0,
      "outputs": [
        {
          "output_type": "stream",
          "text": [
            "2.2.0-rc3\n"
          ],
          "name": "stdout"
        }
      ]
    },
    {
      "cell_type": "code",
      "metadata": {
        "colab_type": "code",
        "id": "sLl52leVp5wU",
        "colab": {}
      },
      "source": [
        "import numpy as np\n",
        "import matplotlib.pyplot as plt\n",
        "def plot_series(time, series, format=\"-\", start=0, end=None):\n",
        "    plt.plot(time[start:end], series[start:end], format)\n",
        "    plt.xlabel(\"Time\")\n",
        "    plt.ylabel(\"Value\")\n",
        "    plt.grid(True)"
      ],
      "execution_count": 0,
      "outputs": []
    },
    {
      "cell_type": "code",
      "metadata": {
        "colab_type": "code",
        "id": "tP7oqUdkk0gY",
        "outputId": "9ea92632-6d1b-4047-9c30-30f74759dde9",
        "colab": {
          "base_uri": "https://localhost:8080/",
          "height": 204
        }
      },
      "source": [
        "!wget --no-check-certificate \\\n",
        "    https://raw.githubusercontent.com/jbrownlee/Datasets/master/daily-min-temperatures.csv \\\n",
        "    -O /tmp/daily-min-temperatures.csv"
      ],
      "execution_count": 0,
      "outputs": [
        {
          "output_type": "stream",
          "text": [
            "--2020-04-26 02:25:17--  https://raw.githubusercontent.com/jbrownlee/Datasets/master/daily-min-temperatures.csv\n",
            "Resolving raw.githubusercontent.com (raw.githubusercontent.com)... 151.101.0.133, 151.101.64.133, 151.101.128.133, ...\n",
            "Connecting to raw.githubusercontent.com (raw.githubusercontent.com)|151.101.0.133|:443... connected.\n",
            "HTTP request sent, awaiting response... 200 OK\n",
            "Length: 67921 (66K) [text/plain]\n",
            "Saving to: ‘/tmp/daily-min-temperatures.csv’\n",
            "\n",
            "\r          /tmp/dail   0%[                    ]       0  --.-KB/s               \r/tmp/daily-min-temp 100%[===================>]  66.33K  --.-KB/s    in 0.001s  \n",
            "\n",
            "2020-04-26 02:25:17 (96.1 MB/s) - ‘/tmp/daily-min-temperatures.csv’ saved [67921/67921]\n",
            "\n"
          ],
          "name": "stdout"
        }
      ]
    },
    {
      "cell_type": "code",
      "metadata": {
        "id": "YQBumGgRUCht",
        "colab_type": "code",
        "outputId": "b36fb617-0ece-4f9e-d832-8e6edc7f2192",
        "colab": {
          "base_uri": "https://localhost:8080/",
          "height": 34
        }
      },
      "source": [
        "np.array(range(3))"
      ],
      "execution_count": 0,
      "outputs": [
        {
          "output_type": "execute_result",
          "data": {
            "text/plain": [
              "array([0, 1, 2])"
            ]
          },
          "metadata": {
            "tags": []
          },
          "execution_count": 8
        }
      ]
    },
    {
      "cell_type": "code",
      "metadata": {
        "colab_type": "code",
        "id": "NcG9r1eClbTh",
        "outputId": "7457cb22-d255-45b5-bd80-8bf4514ad2ed",
        "colab": {
          "base_uri": "https://localhost:8080/",
          "height": 34
        }
      },
      "source": [
        "import csv\n",
        "time_step = []\n",
        "temps = []\n",
        "\n",
        "with open('/tmp/daily-min-temperatures.csv') as csvfile:\n",
        "# YOUR CODE HERE. READ TEMPERATURES INTO TEMPS\n",
        "# HAVE TIME STEPS BE A SIMPLE ARRAY OF 1, 2, 3, 4 etc\n",
        "  reader = csv.reader(csvfile, delimiter=',')\n",
        "  next(reader)\n",
        "  for row in reader:\n",
        "    temps.append(float(row[1]))\n",
        "\n",
        "series = np.array(temps)\n",
        "time = np.array(range(len(temps)))\n",
        "\n",
        "time"
      ],
      "execution_count": 0,
      "outputs": [
        {
          "output_type": "execute_result",
          "data": {
            "text/plain": [
              "array([   0,    1,    2, ..., 3647, 3648, 3649])"
            ]
          },
          "metadata": {
            "tags": []
          },
          "execution_count": 15
        }
      ]
    },
    {
      "cell_type": "code",
      "metadata": {
        "id": "miAh8_qNUcen",
        "colab_type": "code",
        "outputId": "a4c6be1d-904d-403d-e323-8cf748f89daf",
        "colab": {
          "base_uri": "https://localhost:8080/",
          "height": 388
        }
      },
      "source": [
        "plt.figure(figsize=(10, 6))\n",
        "plot_series(time, series)"
      ],
      "execution_count": 0,
      "outputs": [
        {
          "output_type": "display_data",
          "data": {
            "image/png": "[encoded data removed]",
            "text/plain": [
              "<Figure size 720x432 with 1 Axes>"
            ]
          },
          "metadata": {
            "tags": [],
            "needs_background": "light"
          }
        }
      ]
    },
    {
      "cell_type": "code",
      "metadata": {
        "colab_type": "code",
        "id": "L92YRw_IpCFG",
        "colab": {}
      },
      "source": [
        "split_time = 2500\n",
        "time_train = time[:split_time]\n",
        "x_train = series[:split_time]\n",
        "time_valid = time[split_time:]\n",
        "x_valid = series[split_time:]\n",
        "\n",
        "window_size = 30\n",
        "batch_size = 32\n",
        "shuffle_buffer_size = 1000"
      ],
      "execution_count": 0,
      "outputs": []
    },
    {
      "cell_type": "code",
      "metadata": {
        "id": "f_tmvwvbViWI",
        "colab_type": "code",
        "colab": {}
      },
      "source": [
        "def windowed_dataset_dnn(series, window_size, batch_size, shuffle_buffer):\n",
        "    dataset = tf.data.Dataset.from_tensor_slices(series)\n",
        "    dataset = dataset.window(window_size + 1, shift=1, drop_remainder=True)\n",
        "    dataset = dataset.flat_map(lambda window: window.batch(window_size + 1))\n",
        "    dataset = dataset.shuffle(shuffle_buffer).map(lambda window: (window[:-1], window[-1]))\n",
        "    dataset = dataset.batch(batch_size).prefetch(1)\n",
        "    return dataset"
      ],
      "execution_count": 0,
      "outputs": []
    },
    {
      "cell_type": "code",
      "metadata": {
        "colab_type": "code",
        "id": "lJwUUZscnG38",
        "colab": {}
      },
      "source": [
        "def windowed_dataset(series, window_size, batch_size, shuffle_buffer):\n",
        "    series = tf.expand_dims(series, axis=-1)\n",
        "    ds = tf.data.Dataset.from_tensor_slices(series)\n",
        "    ds = ds.window(window_size + 1, shift=1, drop_remainder=True)\n",
        "    ds = ds.flat_map(lambda w: w.batch(window_size + 1))\n",
        "    ds = ds.shuffle(shuffle_buffer)\n",
        "    ds = ds.map(lambda w: (w[:-1], w[1:]))\n",
        "    return ds.batch(batch_size).prefetch(1)"
      ],
      "execution_count": 0,
      "outputs": []
    },
    {
      "cell_type": "code",
      "metadata": {
        "colab_type": "code",
        "id": "4XwGrf-A_wF0",
        "colab": {}
      },
      "source": [
        "def model_forecast(model, series, window_size):\n",
        "    ds = tf.data.Dataset.from_tensor_slices(series)\n",
        "    ds = ds.window(window_size, shift=1, drop_remainder=True)\n",
        "    ds = ds.flat_map(lambda w: w.batch(window_size))\n",
        "    ds = ds.batch(32).prefetch(1)\n",
        "    forecast = model.predict(ds)\n",
        "    return forecast"
      ],
      "execution_count": 0,
      "outputs": []
    },
    {
      "cell_type": "code",
      "metadata": {
        "colab_type": "code",
        "id": "AclfYY3Mn6Ph",
        "outputId": "646c7930-3df5-4fc1-91fa-8c31d84e3001",
        "colab": {
          "base_uri": "https://localhost:8080/",
          "height": 289
        }
      },
      "source": [
        "tf.keras.backend.clear_session()\n",
        "tf.random.set_seed(51)\n",
        "np.random.seed(51)\n",
        "window_size = 64\n",
        "batch_size = 256\n",
        "\n",
        "train_set = windowed_dataset_dnn(x_train, window_size, batch_size, shuffle_buffer_size)\n",
        "print(train_set)\n",
        "print(x_train.shape)\n",
        "\n",
        "model = tf.keras.models.Sequential([\n",
        "    tf.keras.layers.Dense(20, input_shape=[window_size], activation=\"relu\"), \n",
        "    tf.keras.layers.Dense(10, activation=\"relu\"),\n",
        "    tf.keras.layers.Dense(1)\n",
        "])\n",
        "\n",
        "lr_schedule = tf.keras.callbacks.LearningRateScheduler(lambda epoch: 1e-8 * 10**(epoch / 20))\n",
        "\n",
        "optimizer = tf.keras.optimizers.SGD(lr=1e-8, momentum=0.9)\n",
        "\n",
        "model.compile(loss=tf.keras.losses.Huber(),\n",
        "              optimizer=optimizer,\n",
        "              metrics=[\"mae\"])\n",
        "\n",
        "model.summary()"
      ],
      "execution_count": 0,
      "outputs": [
        {
          "output_type": "stream",
          "text": [
            "<PrefetchDataset shapes: ((None, None), (None,)), types: (tf.float64, tf.float64)>\n",
            "(2500,)\n",
            "Model: \"sequential\"\n",
            "_________________________________________________________________\n",
            "Layer (type)                 Output Shape              Param #   \n",
            "=================================================================\n",
            "dense (Dense)                (None, 20)                1300      \n",
            "_________________________________________________________________\n",
            "dense_1 (Dense)              (None, 10)                210       \n",
            "_________________________________________________________________\n",
            "dense_2 (Dense)              (None, 1)                 11        \n",
            "=================================================================\n",
            "Total params: 1,521\n",
            "Trainable params: 1,521\n",
            "Non-trainable params: 0\n",
            "_________________________________________________________________\n"
          ],
          "name": "stdout"
        }
      ]
    },
    {
      "cell_type": "code",
      "metadata": {
        "id": "0WTJphh1VNGR",
        "colab_type": "code",
        "outputId": "82d0ec4c-7ba5-48f3-f6c9-1f9261601875",
        "colab": {
          "base_uri": "https://localhost:8080/",
          "height": 1000
        }
      },
      "source": [
        "history = model.fit(train_set, epochs=100, callbacks=[lr_schedule])"
      ],
      "execution_count": 0,
      "outputs": [
        {
          "output_type": "stream",
          "text": [
            "Epoch 1/100\n",
            "10/10 [==============================] - 0s 17ms/step - loss: 6.7689 - mae: 7.2628 - lr: 1.0000e-08\n",
            "Epoch 2/100\n",
            "10/10 [==============================] - 0s 18ms/step - loss: 6.7727 - mae: 7.2614 - lr: 1.1220e-08\n",
            "Epoch 3/100\n",
            "10/10 [==============================] - 0s 20ms/step - loss: 6.7684 - mae: 7.2592 - lr: 1.2589e-08\n",
            "Epoch 4/100\n",
            "10/10 [==============================] - 0s 20ms/step - loss: 6.7863 - mae: 7.2566 - lr: 1.4125e-08\n",
            "Epoch 5/100\n",
            "10/10 [==============================] - 0s 19ms/step - loss: 6.7441 - mae: 7.2535 - lr: 1.5849e-08\n",
            "Epoch 6/100\n",
            "10/10 [==============================] - 0s 18ms/step - loss: 6.7610 - mae: 7.2501 - lr: 1.7783e-08\n",
            "Epoch 7/100\n",
            "10/10 [==============================] - 0s 19ms/step - loss: 6.7624 - mae: 7.2462 - lr: 1.9953e-08\n",
            "Epoch 8/100\n",
            "10/10 [==============================] - 0s 21ms/step - loss: 6.7433 - mae: 7.2418 - lr: 2.2387e-08\n",
            "Epoch 9/100\n",
            "10/10 [==============================] - 0s 21ms/step - loss: 6.7516 - mae: 7.2369 - lr: 2.5119e-08\n",
            "Epoch 10/100\n",
            "10/10 [==============================] - 0s 19ms/step - loss: 6.7178 - mae: 7.2314 - lr: 2.8184e-08\n",
            "Epoch 11/100\n",
            "10/10 [==============================] - 0s 20ms/step - loss: 6.7192 - mae: 7.2252 - lr: 3.1623e-08\n",
            "Epoch 12/100\n",
            "10/10 [==============================] - 0s 22ms/step - loss: 6.7133 - mae: 7.2182 - lr: 3.5481e-08\n",
            "Epoch 13/100\n",
            "10/10 [==============================] - 0s 18ms/step - loss: 6.7207 - mae: 7.2103 - lr: 3.9811e-08\n",
            "Epoch 14/100\n",
            "10/10 [==============================] - 0s 22ms/step - loss: 6.6901 - mae: 7.2014 - lr: 4.4668e-08\n",
            "Epoch 15/100\n",
            "10/10 [==============================] - 0s 20ms/step - loss: 6.6896 - mae: 7.1914 - lr: 5.0119e-08\n",
            "Epoch 16/100\n",
            "10/10 [==============================] - 0s 19ms/step - loss: 6.6544 - mae: 7.1802 - lr: 5.6234e-08\n",
            "Epoch 17/100\n",
            "10/10 [==============================] - 0s 19ms/step - loss: 6.6701 - mae: 7.1675 - lr: 6.3096e-08\n",
            "Epoch 18/100\n",
            "10/10 [==============================] - 0s 20ms/step - loss: 6.6433 - mae: 7.1531 - lr: 7.0795e-08\n",
            "Epoch 19/100\n",
            "10/10 [==============================] - 0s 27ms/step - loss: 6.6254 - mae: 7.1370 - lr: 7.9433e-08\n",
            "Epoch 20/100\n",
            "10/10 [==============================] - 0s 21ms/step - loss: 6.6434 - mae: 7.1187 - lr: 8.9125e-08\n",
            "Epoch 21/100\n",
            "10/10 [==============================] - 0s 19ms/step - loss: 6.5801 - mae: 7.0980 - lr: 1.0000e-07\n",
            "Epoch 22/100\n",
            "10/10 [==============================] - 0s 30ms/step - loss: 6.5626 - mae: 7.0746 - lr: 1.1220e-07\n",
            "Epoch 23/100\n",
            "10/10 [==============================] - 0s 20ms/step - loss: 6.5483 - mae: 7.0480 - lr: 1.2589e-07\n",
            "Epoch 24/100\n",
            "10/10 [==============================] - 0s 26ms/step - loss: 6.5278 - mae: 7.0179 - lr: 1.4125e-07\n",
            "Epoch 25/100\n",
            "10/10 [==============================] - 0s 22ms/step - loss: 6.4976 - mae: 6.9838 - lr: 1.5849e-07\n",
            "Epoch 26/100\n",
            "10/10 [==============================] - 0s 21ms/step - loss: 6.4787 - mae: 6.9452 - lr: 1.7783e-07\n",
            "Epoch 27/100\n",
            "10/10 [==============================] - 0s 21ms/step - loss: 6.3944 - mae: 6.9009 - lr: 1.9953e-07\n",
            "Epoch 28/100\n",
            "10/10 [==============================] - 0s 20ms/step - loss: 6.3673 - mae: 6.8506 - lr: 2.2387e-07\n",
            "Epoch 29/100\n",
            "10/10 [==============================] - 0s 19ms/step - loss: 6.3121 - mae: 6.7935 - lr: 2.5119e-07\n",
            "Epoch 30/100\n",
            "10/10 [==============================] - 0s 21ms/step - loss: 6.2301 - mae: 6.7290 - lr: 2.8184e-07\n",
            "Epoch 31/100\n",
            "10/10 [==============================] - 0s 19ms/step - loss: 6.1184 - mae: 6.6550 - lr: 3.1623e-07\n",
            "Epoch 32/100\n",
            "10/10 [==============================] - 0s 22ms/step - loss: 6.0643 - mae: 6.5704 - lr: 3.5481e-07\n",
            "Epoch 33/100\n",
            "10/10 [==============================] - 0s 20ms/step - loss: 5.9672 - mae: 6.4748 - lr: 3.9811e-07\n",
            "Epoch 34/100\n",
            "10/10 [==============================] - 0s 20ms/step - loss: 5.8849 - mae: 6.3639 - lr: 4.4668e-07\n",
            "Epoch 35/100\n",
            "10/10 [==============================] - 0s 20ms/step - loss: 5.7389 - mae: 6.2359 - lr: 5.0119e-07\n",
            "Epoch 36/100\n",
            "10/10 [==============================] - 0s 22ms/step - loss: 5.5621 - mae: 6.0899 - lr: 5.6234e-07\n",
            "Epoch 37/100\n",
            "10/10 [==============================] - 0s 21ms/step - loss: 5.4226 - mae: 5.9195 - lr: 6.3096e-07\n",
            "Epoch 38/100\n",
            "10/10 [==============================] - 0s 18ms/step - loss: 5.2280 - mae: 5.7281 - lr: 7.0795e-07\n",
            "Epoch 39/100\n",
            "10/10 [==============================] - 0s 24ms/step - loss: 4.9915 - mae: 5.5103 - lr: 7.9433e-07\n",
            "Epoch 40/100\n",
            "10/10 [==============================] - 0s 21ms/step - loss: 4.7500 - mae: 5.2699 - lr: 8.9125e-07\n",
            "Epoch 41/100\n",
            "10/10 [==============================] - 0s 20ms/step - loss: 4.5079 - mae: 5.0049 - lr: 1.0000e-06\n",
            "Epoch 42/100\n",
            "10/10 [==============================] - 0s 19ms/step - loss: 4.2261 - mae: 4.7237 - lr: 1.1220e-06\n",
            "Epoch 43/100\n",
            "10/10 [==============================] - 0s 19ms/step - loss: 3.9359 - mae: 4.4269 - lr: 1.2589e-06\n",
            "Epoch 44/100\n",
            "10/10 [==============================] - 0s 20ms/step - loss: 3.6446 - mae: 4.1340 - lr: 1.4125e-06\n",
            "Epoch 45/100\n",
            "10/10 [==============================] - 0s 20ms/step - loss: 3.3849 - mae: 3.8544 - lr: 1.5849e-06\n",
            "Epoch 46/100\n",
            "10/10 [==============================] - 0s 19ms/step - loss: 3.1501 - mae: 3.6078 - lr: 1.7783e-06\n",
            "Epoch 47/100\n",
            "10/10 [==============================] - 0s 20ms/step - loss: 2.9294 - mae: 3.4066 - lr: 1.9953e-06\n",
            "Epoch 48/100\n",
            "10/10 [==============================] - 0s 22ms/step - loss: 2.7788 - mae: 3.2604 - lr: 2.2387e-06\n",
            "Epoch 49/100\n",
            "10/10 [==============================] - 0s 19ms/step - loss: 2.6909 - mae: 3.1562 - lr: 2.5119e-06\n",
            "Epoch 50/100\n",
            "10/10 [==============================] - 0s 22ms/step - loss: 2.6016 - mae: 3.0972 - lr: 2.8184e-06\n",
            "Epoch 51/100\n",
            "10/10 [==============================] - 0s 22ms/step - loss: 2.5862 - mae: 3.0643 - lr: 3.1623e-06\n",
            "Epoch 52/100\n",
            "10/10 [==============================] - 0s 21ms/step - loss: 2.5684 - mae: 3.0472 - lr: 3.5481e-06\n",
            "Epoch 53/100\n",
            "10/10 [==============================] - 0s 19ms/step - loss: 2.5784 - mae: 3.0400 - lr: 3.9811e-06\n",
            "Epoch 54/100\n",
            "10/10 [==============================] - 0s 21ms/step - loss: 2.5651 - mae: 3.0357 - lr: 4.4668e-06\n",
            "Epoch 55/100\n",
            "10/10 [==============================] - 0s 19ms/step - loss: 2.5629 - mae: 3.0314 - lr: 5.0119e-06\n",
            "Epoch 56/100\n",
            "10/10 [==============================] - 0s 20ms/step - loss: 2.5497 - mae: 3.0268 - lr: 5.6234e-06\n",
            "Epoch 57/100\n",
            "10/10 [==============================] - 0s 26ms/step - loss: 2.5521 - mae: 3.0221 - lr: 6.3096e-06\n",
            "Epoch 58/100\n",
            "10/10 [==============================] - 0s 20ms/step - loss: 2.5391 - mae: 3.0165 - lr: 7.0795e-06\n",
            "Epoch 59/100\n",
            "10/10 [==============================] - 0s 22ms/step - loss: 2.5501 - mae: 3.0103 - lr: 7.9433e-06\n",
            "Epoch 60/100\n",
            "10/10 [==============================] - 0s 21ms/step - loss: 2.5416 - mae: 3.0032 - lr: 8.9125e-06\n",
            "Epoch 61/100\n",
            "10/10 [==============================] - 0s 21ms/step - loss: 2.5205 - mae: 2.9960 - lr: 1.0000e-05\n",
            "Epoch 62/100\n",
            "10/10 [==============================] - 0s 23ms/step - loss: 2.5160 - mae: 2.9876 - lr: 1.1220e-05\n",
            "Epoch 63/100\n",
            "10/10 [==============================] - 0s 23ms/step - loss: 2.5094 - mae: 2.9782 - lr: 1.2589e-05\n",
            "Epoch 64/100\n",
            "10/10 [==============================] - 0s 21ms/step - loss: 2.4954 - mae: 2.9682 - lr: 1.4125e-05\n",
            "Epoch 65/100\n",
            "10/10 [==============================] - 0s 20ms/step - loss: 2.4798 - mae: 2.9564 - lr: 1.5849e-05\n",
            "Epoch 66/100\n",
            "10/10 [==============================] - 0s 22ms/step - loss: 2.4686 - mae: 2.9442 - lr: 1.7783e-05\n",
            "Epoch 67/100\n",
            "10/10 [==============================] - 0s 21ms/step - loss: 2.4548 - mae: 2.9304 - lr: 1.9953e-05\n",
            "Epoch 68/100\n",
            "10/10 [==============================] - 0s 19ms/step - loss: 2.4249 - mae: 2.9156 - lr: 2.2387e-05\n",
            "Epoch 69/100\n",
            "10/10 [==============================] - 0s 21ms/step - loss: 2.4233 - mae: 2.8965 - lr: 2.5119e-05\n",
            "Epoch 70/100\n",
            "10/10 [==============================] - 0s 21ms/step - loss: 2.4033 - mae: 2.8772 - lr: 2.8184e-05\n",
            "Epoch 71/100\n",
            "10/10 [==============================] - 0s 21ms/step - loss: 2.3901 - mae: 2.8579 - lr: 3.1623e-05\n",
            "Epoch 72/100\n",
            "10/10 [==============================] - 0s 23ms/step - loss: 2.3780 - mae: 2.8384 - lr: 3.5481e-05\n",
            "Epoch 73/100\n",
            "10/10 [==============================] - 0s 19ms/step - loss: 2.3521 - mae: 2.8154 - lr: 3.9811e-05\n",
            "Epoch 74/100\n",
            "10/10 [==============================] - 0s 23ms/step - loss: 2.3211 - mae: 2.7938 - lr: 4.4668e-05\n",
            "Epoch 75/100\n",
            "10/10 [==============================] - 0s 22ms/step - loss: 2.2872 - mae: 2.7709 - lr: 5.0119e-05\n",
            "Epoch 76/100\n",
            "10/10 [==============================] - 0s 20ms/step - loss: 2.2825 - mae: 2.7419 - lr: 5.6234e-05\n",
            "Epoch 77/100\n",
            "10/10 [==============================] - 0s 23ms/step - loss: 2.2442 - mae: 2.7163 - lr: 6.3096e-05\n",
            "Epoch 78/100\n",
            "10/10 [==============================] - 0s 22ms/step - loss: 2.2237 - mae: 2.6901 - lr: 7.0795e-05\n",
            "Epoch 79/100\n",
            "10/10 [==============================] - 0s 25ms/step - loss: 2.1805 - mae: 2.6635 - lr: 7.9433e-05\n",
            "Epoch 80/100\n",
            "10/10 [==============================] - 0s 21ms/step - loss: 2.1787 - mae: 2.6343 - lr: 8.9125e-05\n",
            "Epoch 81/100\n",
            "10/10 [==============================] - 0s 21ms/step - loss: 2.1558 - mae: 2.6152 - lr: 1.0000e-04\n",
            "Epoch 82/100\n",
            "10/10 [==============================] - 0s 22ms/step - loss: 2.0925 - mae: 2.5790 - lr: 1.1220e-04\n",
            "Epoch 83/100\n",
            "10/10 [==============================] - 0s 23ms/step - loss: 2.0882 - mae: 2.5485 - lr: 1.2589e-04\n",
            "Epoch 84/100\n",
            "10/10 [==============================] - 0s 22ms/step - loss: 2.0597 - mae: 2.5226 - lr: 1.4125e-04\n",
            "Epoch 85/100\n",
            "10/10 [==============================] - 0s 21ms/step - loss: 2.0289 - mae: 2.4925 - lr: 1.5849e-04\n",
            "Epoch 86/100\n",
            "10/10 [==============================] - 0s 19ms/step - loss: 2.0166 - mae: 2.4638 - lr: 1.7783e-04\n",
            "Epoch 87/100\n",
            "10/10 [==============================] - 0s 19ms/step - loss: 1.9679 - mae: 2.4402 - lr: 1.9953e-04\n",
            "Epoch 88/100\n",
            "10/10 [==============================] - 0s 23ms/step - loss: 1.9600 - mae: 2.4137 - lr: 2.2387e-04\n",
            "Epoch 89/100\n",
            "10/10 [==============================] - 0s 18ms/step - loss: 1.9247 - mae: 2.3890 - lr: 2.5119e-04\n",
            "Epoch 90/100\n",
            "10/10 [==============================] - 0s 22ms/step - loss: 1.8885 - mae: 2.3544 - lr: 2.8184e-04\n",
            "Epoch 91/100\n",
            "10/10 [==============================] - 0s 27ms/step - loss: 1.8782 - mae: 2.3361 - lr: 3.1623e-04\n",
            "Epoch 92/100\n",
            "10/10 [==============================] - 0s 20ms/step - loss: 1.8645 - mae: 2.3211 - lr: 3.5481e-04\n",
            "Epoch 93/100\n",
            "10/10 [==============================] - 0s 19ms/step - loss: 1.8378 - mae: 2.2948 - lr: 3.9811e-04\n",
            "Epoch 94/100\n",
            "10/10 [==============================] - 0s 20ms/step - loss: 1.8095 - mae: 2.2714 - lr: 4.4668e-04\n",
            "Epoch 95/100\n",
            "10/10 [==============================] - 0s 21ms/step - loss: 1.8068 - mae: 2.2518 - lr: 5.0119e-04\n",
            "Epoch 96/100\n",
            "10/10 [==============================] - 0s 20ms/step - loss: 1.7769 - mae: 2.2353 - lr: 5.6234e-04\n",
            "Epoch 97/100\n",
            "10/10 [==============================] - 0s 26ms/step - loss: 1.7649 - mae: 2.2130 - lr: 6.3096e-04\n",
            "Epoch 98/100\n",
            "10/10 [==============================] - 0s 20ms/step - loss: 1.7496 - mae: 2.2044 - lr: 7.0795e-04\n",
            "Epoch 99/100\n",
            "10/10 [==============================] - 0s 17ms/step - loss: 1.7424 - mae: 2.1881 - lr: 7.9433e-04\n",
            "Epoch 100/100\n",
            "10/10 [==============================] - 0s 27ms/step - loss: 1.7157 - mae: 2.1610 - lr: 8.9125e-04\n"
          ],
          "name": "stdout"
        }
      ]
    },
    {
      "cell_type": "code",
      "metadata": {
        "colab_type": "code",
        "id": "vVcKmg7Q_7rD",
        "outputId": "43669a48-6708-430f-c8a2-8c72b7899be4",
        "colab": {
          "base_uri": "https://localhost:8080/",
          "height": 290
        }
      },
      "source": [
        "plt.semilogx(history.history[\"lr\"], history.history[\"loss\"])\n",
        "plt.axis([1e-8, 1e-4, 0, 60])"
      ],
      "execution_count": 0,
      "outputs": [
        {
          "output_type": "execute_result",
          "data": {
            "text/plain": [
              "(1e-08, 0.0001, 0.0, 60.0)"
            ]
          },
          "metadata": {
            "tags": []
          },
          "execution_count": 26
        },
        {
          "output_type": "display_data",
          "data": {
            "image/png": "[encoded data removed]",
            "text/plain": [
              "<Figure size 432x288 with 1 Axes>"
            ]
          },
          "metadata": {
            "tags": [],
            "needs_background": "light"
          }
        }
      ]
    },
    {
      "cell_type": "code",
      "metadata": {
        "id": "yhwh6dCXWz2B",
        "colab_type": "code",
        "outputId": "32e9e9f8-c9fc-4c07-d91f-a69e559a18e0",
        "colab": {
          "base_uri": "https://localhost:8080/",
          "height": 425
        }
      },
      "source": [
        "tf.keras.backend.clear_session()\n",
        "tf.random.set_seed(51)\n",
        "np.random.seed(51)\n",
        "window_size = 64\n",
        "batch_size = 256\n",
        "\n",
        "train_set = windowed_dataset(x_train, window_size, batch_size, shuffle_buffer_size)\n",
        "print(train_set)\n",
        "print(x_train.shape)\n",
        "\n",
        "model = tf.keras.models.Sequential([\n",
        "  tf.keras.layers.Conv1D(filters=32, kernel_size=5,\n",
        "                      strides=1, padding=\"causal\",\n",
        "                      activation=\"relu\",\n",
        "                      input_shape=[None, 1]),\n",
        "  tf.keras.layers.LSTM(64, return_sequences=True),\n",
        "  tf.keras.layers.LSTM(64, return_sequences=True),\n",
        "  tf.keras.layers.Dense(30, activation=\"relu\"),\n",
        "  tf.keras.layers.Dense(10, activation=\"relu\"),\n",
        "  tf.keras.layers.Dense(1),\n",
        "  tf.keras.layers.Lambda(lambda x: x * 400)\n",
        "])\n",
        "\n",
        "lr_schedule = tf.keras.callbacks.LearningRateScheduler(lambda epoch: 1e-8 * 10**(epoch / 20))\n",
        "\n",
        "optimizer = tf.keras.optimizers.SGD(lr=1e-8, momentum=0.9)\n",
        "\n",
        "model.compile(loss=tf.keras.losses.Huber(),\n",
        "              optimizer=optimizer,\n",
        "              metrics=[\"mae\"])\n",
        "\n",
        "model.summary()"
      ],
      "execution_count": 0,
      "outputs": [
        {
          "output_type": "stream",
          "text": [
            "<PrefetchDataset shapes: ((None, None, 1), (None, None, 1)), types: (tf.float64, tf.float64)>\n",
            "(2500,)\n",
            "Model: \"sequential\"\n",
            "_________________________________________________________________\n",
            "Layer (type)                 Output Shape              Param #   \n",
            "=================================================================\n",
            "conv1d (Conv1D)              (None, None, 32)          192       \n",
            "_________________________________________________________________\n",
            "lstm (LSTM)                  (None, None, 64)          24832     \n",
            "_________________________________________________________________\n",
            "lstm_1 (LSTM)                (None, None, 64)          33024     \n",
            "_________________________________________________________________\n",
            "dense (Dense)                (None, None, 30)          1950      \n",
            "_________________________________________________________________\n",
            "dense_1 (Dense)              (None, None, 10)          310       \n",
            "_________________________________________________________________\n",
            "dense_2 (Dense)              (None, None, 1)           11        \n",
            "_________________________________________________________________\n",
            "lambda (Lambda)              (None, None, 1)           0         \n",
            "=================================================================\n",
            "Total params: 60,319\n",
            "Trainable params: 60,319\n",
            "Non-trainable params: 0\n",
            "_________________________________________________________________\n"
          ],
          "name": "stdout"
        }
      ]
    },
    {
      "cell_type": "code",
      "metadata": {
        "id": "YuXLz7GSW_OX",
        "colab_type": "code",
        "outputId": "36d95eec-12f4-4172-dda5-f28b308261aa",
        "colab": {
          "base_uri": "https://localhost:8080/",
          "height": 1000
        }
      },
      "source": [
        "history = model.fit(train_set, epochs=100, callbacks=[lr_schedule])"
      ],
      "execution_count": 0,
      "outputs": [
        {
          "output_type": "stream",
          "text": [
            "Epoch 1/100\n",
            "10/10 [==============================] - 0s 23ms/step - loss: 31.1706 - mae: 31.6550 - lr: 1.0000e-08\n",
            "Epoch 2/100\n",
            "10/10 [==============================] - 0s 26ms/step - loss: 30.5228 - mae: 31.0756 - lr: 1.1220e-08\n",
            "Epoch 3/100\n",
            "10/10 [==============================] - 0s 25ms/step - loss: 29.6681 - mae: 30.1801 - lr: 1.2589e-08\n",
            "Epoch 4/100\n",
            "10/10 [==============================] - 0s 24ms/step - loss: 28.6311 - mae: 29.0586 - lr: 1.4125e-08\n",
            "Epoch 5/100\n",
            "10/10 [==============================] - 0s 24ms/step - loss: 27.1851 - mae: 27.6945 - lr: 1.5849e-08\n",
            "Epoch 6/100\n",
            "10/10 [==============================] - 0s 25ms/step - loss: 25.5237 - mae: 25.9986 - lr: 1.7783e-08\n",
            "Epoch 7/100\n",
            "10/10 [==============================] - 0s 24ms/step - loss: 23.2871 - mae: 23.8429 - lr: 1.9953e-08\n",
            "Epoch 8/100\n",
            "10/10 [==============================] - 0s 27ms/step - loss: 20.5082 - mae: 21.1108 - lr: 2.2387e-08\n",
            "Epoch 9/100\n",
            "10/10 [==============================] - 0s 24ms/step - loss: 17.1935 - mae: 17.8091 - lr: 2.5119e-08\n",
            "Epoch 10/100\n",
            "10/10 [==============================] - 0s 26ms/step - loss: 13.4642 - mae: 14.1371 - lr: 2.8184e-08\n",
            "Epoch 11/100\n",
            "10/10 [==============================] - 0s 26ms/step - loss: 10.0364 - mae: 10.6152 - lr: 3.1623e-08\n",
            "Epoch 12/100\n",
            "10/10 [==============================] - 0s 25ms/step - loss: 7.5764 - mae: 8.1025 - lr: 3.5481e-08\n",
            "Epoch 13/100\n",
            "10/10 [==============================] - 0s 26ms/step - loss: 6.2482 - mae: 6.7711 - lr: 3.9811e-08\n",
            "Epoch 14/100\n",
            "10/10 [==============================] - 0s 24ms/step - loss: 5.6777 - mae: 6.1856 - lr: 4.4668e-08\n",
            "Epoch 15/100\n",
            "10/10 [==============================] - 0s 25ms/step - loss: 5.3116 - mae: 5.8166 - lr: 5.0119e-08\n",
            "Epoch 16/100\n",
            "10/10 [==============================] - 0s 25ms/step - loss: 4.9275 - mae: 5.4206 - lr: 5.6234e-08\n",
            "Epoch 17/100\n",
            "10/10 [==============================] - 0s 24ms/step - loss: 4.5450 - mae: 5.0338 - lr: 6.3096e-08\n",
            "Epoch 18/100\n",
            "10/10 [==============================] - 0s 25ms/step - loss: 4.2185 - mae: 4.7085 - lr: 7.0795e-08\n",
            "Epoch 19/100\n",
            "10/10 [==============================] - 0s 26ms/step - loss: 3.9399 - mae: 4.4360 - lr: 7.9433e-08\n",
            "Epoch 20/100\n",
            "10/10 [==============================] - 0s 26ms/step - loss: 3.7303 - mae: 4.2177 - lr: 8.9125e-08\n",
            "Epoch 21/100\n",
            "10/10 [==============================] - 0s 25ms/step - loss: 3.5704 - mae: 4.0566 - lr: 1.0000e-07\n",
            "Epoch 22/100\n",
            "10/10 [==============================] - 0s 24ms/step - loss: 3.4603 - mae: 3.9344 - lr: 1.1220e-07\n",
            "Epoch 23/100\n",
            "10/10 [==============================] - 0s 26ms/step - loss: 3.3656 - mae: 3.8414 - lr: 1.2589e-07\n",
            "Epoch 24/100\n",
            "10/10 [==============================] - 0s 23ms/step - loss: 3.2869 - mae: 3.7645 - lr: 1.4125e-07\n",
            "Epoch 25/100\n",
            "10/10 [==============================] - 0s 25ms/step - loss: 3.2232 - mae: 3.6978 - lr: 1.5849e-07\n",
            "Epoch 26/100\n",
            "10/10 [==============================] - 0s 25ms/step - loss: 3.1540 - mae: 3.6346 - lr: 1.7783e-07\n",
            "Epoch 27/100\n",
            "10/10 [==============================] - 0s 28ms/step - loss: 3.1000 - mae: 3.5693 - lr: 1.9953e-07\n",
            "Epoch 28/100\n",
            "10/10 [==============================] - 0s 29ms/step - loss: 3.0355 - mae: 3.5053 - lr: 2.2387e-07\n",
            "Epoch 29/100\n",
            "10/10 [==============================] - 0s 25ms/step - loss: 2.9662 - mae: 3.4379 - lr: 2.5119e-07\n",
            "Epoch 30/100\n",
            "10/10 [==============================] - 0s 27ms/step - loss: 2.9018 - mae: 3.3712 - lr: 2.8184e-07\n",
            "Epoch 31/100\n",
            "10/10 [==============================] - 0s 26ms/step - loss: 2.8406 - mae: 3.3098 - lr: 3.1623e-07\n",
            "Epoch 32/100\n",
            "10/10 [==============================] - 0s 25ms/step - loss: 2.7814 - mae: 3.2479 - lr: 3.5481e-07\n",
            "Epoch 33/100\n",
            "10/10 [==============================] - 0s 25ms/step - loss: 2.7205 - mae: 3.1891 - lr: 3.9811e-07\n",
            "Epoch 34/100\n",
            "10/10 [==============================] - 0s 26ms/step - loss: 2.6695 - mae: 3.1379 - lr: 4.4668e-07\n",
            "Epoch 35/100\n",
            "10/10 [==============================] - 0s 27ms/step - loss: 2.6166 - mae: 3.0849 - lr: 5.0119e-07\n",
            "Epoch 36/100\n",
            "10/10 [==============================] - 0s 26ms/step - loss: 2.5696 - mae: 3.0357 - lr: 5.6234e-07\n",
            "Epoch 37/100\n",
            "10/10 [==============================] - 0s 26ms/step - loss: 2.5223 - mae: 2.9877 - lr: 6.3096e-07\n",
            "Epoch 38/100\n",
            "10/10 [==============================] - 0s 24ms/step - loss: 2.4715 - mae: 2.9415 - lr: 7.0795e-07\n",
            "Epoch 39/100\n",
            "10/10 [==============================] - 0s 26ms/step - loss: 2.4295 - mae: 2.8968 - lr: 7.9433e-07\n",
            "Epoch 40/100\n",
            "10/10 [==============================] - 0s 27ms/step - loss: 2.3863 - mae: 2.8541 - lr: 8.9125e-07\n",
            "Epoch 41/100\n",
            "10/10 [==============================] - 0s 27ms/step - loss: 2.3447 - mae: 2.8124 - lr: 1.0000e-06\n",
            "Epoch 42/100\n",
            "10/10 [==============================] - 0s 27ms/step - loss: 2.3051 - mae: 2.7718 - lr: 1.1220e-06\n",
            "Epoch 43/100\n",
            "10/10 [==============================] - 0s 25ms/step - loss: 2.2710 - mae: 2.7315 - lr: 1.2589e-06\n",
            "Epoch 44/100\n",
            "10/10 [==============================] - 0s 26ms/step - loss: 2.2294 - mae: 2.6913 - lr: 1.4125e-06\n",
            "Epoch 45/100\n",
            "10/10 [==============================] - 0s 25ms/step - loss: 2.1910 - mae: 2.6523 - lr: 1.5849e-06\n",
            "Epoch 46/100\n",
            "10/10 [==============================] - 0s 26ms/step - loss: 2.1624 - mae: 2.6190 - lr: 1.7783e-06\n",
            "Epoch 47/100\n",
            "10/10 [==============================] - 0s 28ms/step - loss: 2.1291 - mae: 2.5877 - lr: 1.9953e-06\n",
            "Epoch 48/100\n",
            "10/10 [==============================] - 0s 26ms/step - loss: 2.0990 - mae: 2.5607 - lr: 2.2387e-06\n",
            "Epoch 49/100\n",
            "10/10 [==============================] - 0s 28ms/step - loss: 2.0698 - mae: 2.5300 - lr: 2.5119e-06\n",
            "Epoch 50/100\n",
            "10/10 [==============================] - 0s 26ms/step - loss: 2.0455 - mae: 2.5040 - lr: 2.8184e-06\n",
            "Epoch 51/100\n",
            "10/10 [==============================] - 0s 27ms/step - loss: 2.0226 - mae: 2.4818 - lr: 3.1623e-06\n",
            "Epoch 52/100\n",
            "10/10 [==============================] - 0s 26ms/step - loss: 2.0002 - mae: 2.4598 - lr: 3.5481e-06\n",
            "Epoch 53/100\n",
            "10/10 [==============================] - 0s 27ms/step - loss: 1.9872 - mae: 2.4444 - lr: 3.9811e-06\n",
            "Epoch 54/100\n",
            "10/10 [==============================] - 0s 27ms/step - loss: 1.9621 - mae: 2.4193 - lr: 4.4668e-06\n",
            "Epoch 55/100\n",
            "10/10 [==============================] - 0s 25ms/step - loss: 1.9474 - mae: 2.4009 - lr: 5.0119e-06\n",
            "Epoch 56/100\n",
            "10/10 [==============================] - 0s 26ms/step - loss: 1.9220 - mae: 2.3783 - lr: 5.6234e-06\n",
            "Epoch 57/100\n",
            "10/10 [==============================] - 0s 25ms/step - loss: 1.9025 - mae: 2.3620 - lr: 6.3096e-06\n",
            "Epoch 58/100\n",
            "10/10 [==============================] - 0s 27ms/step - loss: 1.8873 - mae: 2.3394 - lr: 7.0795e-06\n",
            "Epoch 59/100\n",
            "10/10 [==============================] - 0s 28ms/step - loss: 1.8566 - mae: 2.3119 - lr: 7.9433e-06\n",
            "Epoch 60/100\n",
            "10/10 [==============================] - 0s 25ms/step - loss: 2.1801 - mae: 2.6550 - lr: 8.9125e-06\n",
            "Epoch 61/100\n",
            "10/10 [==============================] - 0s 27ms/step - loss: 2.6802 - mae: 3.1558 - lr: 1.0000e-05\n",
            "Epoch 62/100\n",
            "10/10 [==============================] - 0s 25ms/step - loss: 3.0775 - mae: 3.5611 - lr: 1.1220e-05\n",
            "Epoch 63/100\n",
            "10/10 [==============================] - 0s 26ms/step - loss: 3.5628 - mae: 3.9953 - lr: 1.2589e-05\n",
            "Epoch 64/100\n",
            "10/10 [==============================] - 0s 25ms/step - loss: 3.6626 - mae: 4.1398 - lr: 1.4125e-05\n",
            "Epoch 65/100\n",
            "10/10 [==============================] - 0s 26ms/step - loss: 4.1849 - mae: 4.6934 - lr: 1.5849e-05\n",
            "Epoch 66/100\n",
            "10/10 [==============================] - 0s 26ms/step - loss: 4.3618 - mae: 4.8703 - lr: 1.7783e-05\n",
            "Epoch 67/100\n",
            "10/10 [==============================] - 0s 25ms/step - loss: 4.6197 - mae: 5.1192 - lr: 1.9953e-05\n",
            "Epoch 68/100\n",
            "10/10 [==============================] - 0s 26ms/step - loss: 4.6668 - mae: 5.1863 - lr: 2.2387e-05\n",
            "Epoch 69/100\n",
            "10/10 [==============================] - 0s 24ms/step - loss: 4.8905 - mae: 5.4814 - lr: 2.5119e-05\n",
            "Epoch 70/100\n",
            "10/10 [==============================] - 0s 28ms/step - loss: 4.9901 - mae: 5.6222 - lr: 2.8184e-05\n",
            "Epoch 71/100\n",
            "10/10 [==============================] - 0s 26ms/step - loss: 15.0311 - mae: 15.5169 - lr: 3.1623e-05\n",
            "Epoch 72/100\n",
            "10/10 [==============================] - 0s 24ms/step - loss: 10.9266 - mae: 11.3340 - lr: 3.5481e-05\n",
            "Epoch 73/100\n",
            "10/10 [==============================] - 0s 26ms/step - loss: 5.6954 - mae: 6.2987 - lr: 3.9811e-05\n",
            "Epoch 74/100\n",
            "10/10 [==============================] - 0s 26ms/step - loss: 3.6156 - mae: 4.1137 - lr: 4.4668e-05\n",
            "Epoch 75/100\n",
            "10/10 [==============================] - 0s 28ms/step - loss: 3.3343 - mae: 3.8517 - lr: 5.0119e-05\n",
            "Epoch 76/100\n",
            "10/10 [==============================] - 0s 26ms/step - loss: 2.8966 - mae: 3.3964 - lr: 5.6234e-05\n",
            "Epoch 77/100\n",
            "10/10 [==============================] - 0s 27ms/step - loss: 2.4082 - mae: 2.8832 - lr: 6.3096e-05\n",
            "Epoch 78/100\n",
            "10/10 [==============================] - 0s 27ms/step - loss: 2.1753 - mae: 2.6424 - lr: 7.0795e-05\n",
            "Epoch 79/100\n",
            "10/10 [==============================] - 0s 27ms/step - loss: 1.9510 - mae: 2.4090 - lr: 7.9433e-05\n",
            "Epoch 80/100\n",
            "10/10 [==============================] - 0s 24ms/step - loss: 2.4362 - mae: 2.9248 - lr: 8.9125e-05\n",
            "Epoch 81/100\n",
            "10/10 [==============================] - 0s 26ms/step - loss: 3.1694 - mae: 3.6790 - lr: 1.0000e-04\n",
            "Epoch 82/100\n",
            "10/10 [==============================] - 0s 25ms/step - loss: 4.0479 - mae: 4.5157 - lr: 1.1220e-04\n",
            "Epoch 83/100\n",
            "10/10 [==============================] - 0s 25ms/step - loss: 4.5298 - mae: 4.9573 - lr: 1.2589e-04\n",
            "Epoch 84/100\n",
            "10/10 [==============================] - 0s 26ms/step - loss: 5.0963 - mae: 5.6093 - lr: 1.4125e-04\n",
            "Epoch 85/100\n",
            "10/10 [==============================] - 0s 26ms/step - loss: 5.6320 - mae: 6.2086 - lr: 1.5849e-04\n",
            "Epoch 86/100\n",
            "10/10 [==============================] - 0s 27ms/step - loss: 7.0133 - mae: 7.4671 - lr: 1.7783e-04\n",
            "Epoch 87/100\n",
            "10/10 [==============================] - 0s 26ms/step - loss: 7.5560 - mae: 8.0179 - lr: 1.9953e-04\n",
            "Epoch 88/100\n",
            "10/10 [==============================] - 0s 24ms/step - loss: 8.7254 - mae: 9.1969 - lr: 2.2387e-04\n",
            "Epoch 89/100\n",
            "10/10 [==============================] - 0s 25ms/step - loss: 11.5788 - mae: 12.1088 - lr: 2.5119e-04\n",
            "Epoch 90/100\n",
            "10/10 [==============================] - 0s 28ms/step - loss: 42.5205 - mae: 44.0404 - lr: 2.8184e-04\n",
            "Epoch 91/100\n",
            "10/10 [==============================] - 0s 26ms/step - loss: 45.1244 - mae: 44.4650 - lr: 3.1623e-04\n",
            "Epoch 92/100\n",
            "10/10 [==============================] - 0s 25ms/step - loss: 21.5506 - mae: 22.0785 - lr: 3.5481e-04\n",
            "Epoch 93/100\n",
            "10/10 [==============================] - 0s 24ms/step - loss: 44.0616 - mae: 44.3752 - lr: 3.9811e-04\n",
            "Epoch 94/100\n",
            "10/10 [==============================] - 0s 28ms/step - loss: 65.6459 - mae: 64.6592 - lr: 4.4668e-04\n",
            "Epoch 95/100\n",
            "10/10 [==============================] - 0s 26ms/step - loss: 79.8791 - mae: 79.7290 - lr: 5.0119e-04\n",
            "Epoch 96/100\n",
            "10/10 [==============================] - 0s 26ms/step - loss: 80.1132 - mae: 82.6664 - lr: 5.6234e-04\n",
            "Epoch 97/100\n",
            "10/10 [==============================] - 0s 26ms/step - loss: 93.3417 - mae: 91.5407 - lr: 6.3096e-04\n",
            "Epoch 98/100\n",
            "10/10 [==============================] - 0s 27ms/step - loss: 119.4753 - mae: 114.6321 - lr: 7.0795e-04\n",
            "Epoch 99/100\n",
            "10/10 [==============================] - 0s 26ms/step - loss: 79.5235 - mae: 79.9306 - lr: 7.9433e-04\n",
            "Epoch 100/100\n",
            "10/10 [==============================] - 0s 27ms/step - loss: 136.3894 - mae: 136.7556 - lr: 8.9125e-04\n"
          ],
          "name": "stdout"
        }
      ]
    },
    {
      "cell_type": "code",
      "metadata": {
        "id": "hesJKkCOW_Ql",
        "colab_type": "code",
        "outputId": "d4cd6256-94e3-4537-dacf-f5305fa95b96",
        "colab": {
          "base_uri": "https://localhost:8080/",
          "height": 290
        }
      },
      "source": [
        "plt.semilogx(history.history[\"lr\"], history.history[\"loss\"])\n",
        "plt.axis([1e-8, 1e-4, 0, 60])"
      ],
      "execution_count": 0,
      "outputs": [
        {
          "output_type": "execute_result",
          "data": {
            "text/plain": [
              "(1e-08, 0.0001, 0.0, 60.0)"
            ]
          },
          "metadata": {
            "tags": []
          },
          "execution_count": 34
        },
        {
          "output_type": "display_data",
          "data": {
            "image/png": "[encoded data removed]",
            "text/plain": [
              "<Figure size 432x288 with 1 Axes>"
            ]
          },
          "metadata": {
            "tags": [],
            "needs_background": "light"
          }
        }
      ]
    },
    {
      "cell_type": "code",
      "metadata": {
        "colab_type": "code",
        "id": "QsksvkcXAAgq",
        "outputId": "6499af31-ff49-4490-f7be-688730198825",
        "colab": {
          "base_uri": "https://localhost:8080/",
          "height": 391
        }
      },
      "source": [
        "tf.keras.backend.clear_session()\n",
        "tf.random.set_seed(51)\n",
        "np.random.seed(51)\n",
        "\n",
        "train_set = windowed_dataset(x_train, window_size=60, batch_size=100, shuffle_buffer=shuffle_buffer_size)\n",
        "\n",
        "model = tf.keras.models.Sequential([\n",
        "  tf.keras.layers.Conv1D(filters=32, kernel_size=5,\n",
        "                      strides=1, padding=\"causal\",\n",
        "                      activation=\"relu\",\n",
        "                      input_shape=[None, 1]),\n",
        "  tf.keras.layers.LSTM(64, return_sequences=True),\n",
        "  tf.keras.layers.LSTM(64, return_sequences=True),\n",
        "  tf.keras.layers.Dense(30, activation=\"relu\"),\n",
        "  tf.keras.layers.Dense(10, activation=\"relu\"),\n",
        "  tf.keras.layers.Dense(1),\n",
        "  tf.keras.layers.Lambda(lambda x: x * 400)\n",
        "])\n",
        "\n",
        "optimizer = tf.keras.optimizers.SGD(lr=1e-5, momentum=0.9)\n",
        "\n",
        "model.compile(loss=tf.keras.losses.Huber(),\n",
        "              optimizer=optimizer,\n",
        "              metrics=[\"mae\"])\n",
        "\n",
        "model.summary()                                    "
      ],
      "execution_count": 0,
      "outputs": [
        {
          "output_type": "stream",
          "text": [
            "Model: \"sequential\"\n",
            "_________________________________________________________________\n",
            "Layer (type)                 Output Shape              Param #   \n",
            "=================================================================\n",
            "conv1d (Conv1D)              (None, None, 32)          192       \n",
            "_________________________________________________________________\n",
            "lstm (LSTM)                  (None, None, 64)          24832     \n",
            "_________________________________________________________________\n",
            "lstm_1 (LSTM)                (None, None, 64)          33024     \n",
            "_________________________________________________________________\n",
            "dense (Dense)                (None, None, 30)          1950      \n",
            "_________________________________________________________________\n",
            "dense_1 (Dense)              (None, None, 10)          310       \n",
            "_________________________________________________________________\n",
            "dense_2 (Dense)              (None, None, 1)           11        \n",
            "_________________________________________________________________\n",
            "lambda (Lambda)              (None, None, 1)           0         \n",
            "=================================================================\n",
            "Total params: 60,319\n",
            "Trainable params: 60,319\n",
            "Non-trainable params: 0\n",
            "_________________________________________________________________\n"
          ],
          "name": "stdout"
        }
      ]
    },
    {
      "cell_type": "code",
      "metadata": {
        "id": "ohusrHKSV9DP",
        "colab_type": "code",
        "outputId": "0ecdaabc-75c0-47cc-bc2c-3c4ddf3791da",
        "colab": {
          "base_uri": "https://localhost:8080/",
          "height": 1000
        }
      },
      "source": [
        "# EXPECTED OUTPUT SHOULD SEE AN MAE OF <2 WITHIN ABOUT 30 EPOCHS\n",
        "history = model.fit(train_set, epochs=100)"
      ],
      "execution_count": 0,
      "outputs": [
        {
          "output_type": "stream",
          "text": [
            "Epoch 1/100\n",
            "25/25 [==============================] - 0s 14ms/step - loss: 12.3573 - mae: 13.0702\n",
            "Epoch 2/100\n",
            "25/25 [==============================] - 0s 14ms/step - loss: 2.6504 - mae: 3.1246\n",
            "Epoch 3/100\n",
            "25/25 [==============================] - 0s 15ms/step - loss: 1.9989 - mae: 2.4529\n",
            "Epoch 4/100\n",
            "25/25 [==============================] - 0s 15ms/step - loss: 1.8933 - mae: 2.3467\n",
            "Epoch 5/100\n",
            "25/25 [==============================] - 0s 15ms/step - loss: 1.8203 - mae: 2.2709\n",
            "Epoch 6/100\n",
            "25/25 [==============================] - 0s 15ms/step - loss: 1.7881 - mae: 2.2384\n",
            "Epoch 7/100\n",
            "25/25 [==============================] - 0s 15ms/step - loss: 1.7749 - mae: 2.2264\n",
            "Epoch 8/100\n",
            "25/25 [==============================] - 0s 15ms/step - loss: 1.7739 - mae: 2.2288\n",
            "Epoch 9/100\n",
            "25/25 [==============================] - 0s 16ms/step - loss: 1.8130 - mae: 2.2686\n",
            "Epoch 10/100\n",
            "25/25 [==============================] - 0s 15ms/step - loss: 1.7171 - mae: 2.1667\n",
            "Epoch 11/100\n",
            "25/25 [==============================] - 0s 14ms/step - loss: 1.7153 - mae: 2.1648\n",
            "Epoch 12/100\n",
            "25/25 [==============================] - 0s 15ms/step - loss: 1.6753 - mae: 2.1247\n",
            "Epoch 13/100\n",
            "25/25 [==============================] - 0s 15ms/step - loss: 1.6573 - mae: 2.1046\n",
            "Epoch 14/100\n",
            "25/25 [==============================] - 0s 15ms/step - loss: 1.6618 - mae: 2.1089\n",
            "Epoch 15/100\n",
            "25/25 [==============================] - 0s 15ms/step - loss: 1.6443 - mae: 2.0909\n",
            "Epoch 16/100\n",
            "25/25 [==============================] - 0s 15ms/step - loss: 1.6361 - mae: 2.0815\n",
            "Epoch 17/100\n",
            "25/25 [==============================] - 0s 14ms/step - loss: 1.6266 - mae: 2.0754\n",
            "Epoch 18/100\n",
            "25/25 [==============================] - 0s 14ms/step - loss: 1.6258 - mae: 2.0739\n",
            "Epoch 19/100\n",
            "25/25 [==============================] - 0s 16ms/step - loss: 1.5976 - mae: 2.0435\n",
            "Epoch 20/100\n",
            "25/25 [==============================] - 0s 15ms/step - loss: 1.5898 - mae: 2.0350\n",
            "Epoch 21/100\n",
            "25/25 [==============================] - 0s 14ms/step - loss: 1.5869 - mae: 2.0323\n",
            "Epoch 22/100\n",
            "25/25 [==============================] - 0s 15ms/step - loss: 1.5907 - mae: 2.0366\n",
            "Epoch 23/100\n",
            "25/25 [==============================] - 0s 15ms/step - loss: 1.5744 - mae: 2.0185\n",
            "Epoch 24/100\n",
            "25/25 [==============================] - 0s 15ms/step - loss: 1.5713 - mae: 2.0182\n",
            "Epoch 25/100\n",
            "25/25 [==============================] - 0s 15ms/step - loss: 1.6016 - mae: 2.0465\n",
            "Epoch 26/100\n",
            "25/25 [==============================] - 0s 16ms/step - loss: 1.5683 - mae: 2.0133\n",
            "Epoch 27/100\n",
            "25/25 [==============================] - 0s 15ms/step - loss: 1.5869 - mae: 2.0325\n",
            "Epoch 28/100\n",
            "25/25 [==============================] - 0s 15ms/step - loss: 1.5505 - mae: 1.9950\n",
            "Epoch 29/100\n",
            "25/25 [==============================] - 0s 15ms/step - loss: 1.5792 - mae: 2.0223\n",
            "Epoch 30/100\n",
            "25/25 [==============================] - 0s 15ms/step - loss: 1.5697 - mae: 2.0154\n",
            "Epoch 31/100\n",
            "25/25 [==============================] - 0s 15ms/step - loss: 1.5416 - mae: 1.9850\n",
            "Epoch 32/100\n",
            "25/25 [==============================] - 0s 15ms/step - loss: 1.5504 - mae: 1.9918\n",
            "Epoch 33/100\n",
            "25/25 [==============================] - 0s 14ms/step - loss: 1.5820 - mae: 2.0273\n",
            "Epoch 34/100\n",
            "25/25 [==============================] - 0s 15ms/step - loss: 1.5509 - mae: 1.9944\n",
            "Epoch 35/100\n",
            "25/25 [==============================] - 0s 15ms/step - loss: 1.5667 - mae: 2.0132\n",
            "Epoch 36/100\n",
            "25/25 [==============================] - 0s 15ms/step - loss: 1.5384 - mae: 1.9820\n",
            "Epoch 37/100\n",
            "25/25 [==============================] - 0s 15ms/step - loss: 1.5457 - mae: 1.9903\n",
            "Epoch 38/100\n",
            "25/25 [==============================] - 0s 15ms/step - loss: 1.5539 - mae: 1.9966\n",
            "Epoch 39/100\n",
            "25/25 [==============================] - 0s 14ms/step - loss: 1.5462 - mae: 1.9912\n",
            "Epoch 40/100\n",
            "25/25 [==============================] - 0s 15ms/step - loss: 1.5422 - mae: 1.9844\n",
            "Epoch 41/100\n",
            "25/25 [==============================] - 0s 14ms/step - loss: 1.5428 - mae: 1.9881\n",
            "Epoch 42/100\n",
            "25/25 [==============================] - 0s 15ms/step - loss: 1.5203 - mae: 1.9620\n",
            "Epoch 43/100\n",
            "25/25 [==============================] - 0s 14ms/step - loss: 1.5569 - mae: 1.9999\n",
            "Epoch 44/100\n",
            "25/25 [==============================] - 0s 14ms/step - loss: 1.5635 - mae: 2.0050\n",
            "Epoch 45/100\n",
            "25/25 [==============================] - 0s 14ms/step - loss: 1.5469 - mae: 1.9927\n",
            "Epoch 46/100\n",
            "25/25 [==============================] - 0s 15ms/step - loss: 1.5363 - mae: 1.9786\n",
            "Epoch 47/100\n",
            "25/25 [==============================] - 0s 15ms/step - loss: 1.5253 - mae: 1.9681\n",
            "Epoch 48/100\n",
            "25/25 [==============================] - 0s 14ms/step - loss: 1.5371 - mae: 1.9804\n",
            "Epoch 49/100\n",
            "25/25 [==============================] - 0s 15ms/step - loss: 1.5541 - mae: 1.9959\n",
            "Epoch 50/100\n",
            "25/25 [==============================] - 0s 15ms/step - loss: 1.5633 - mae: 2.0093\n",
            "Epoch 51/100\n",
            "25/25 [==============================] - 0s 15ms/step - loss: 1.5150 - mae: 1.9574\n",
            "Epoch 52/100\n",
            "25/25 [==============================] - 0s 16ms/step - loss: 1.5389 - mae: 1.9796\n",
            "Epoch 53/100\n",
            "25/25 [==============================] - 0s 15ms/step - loss: 1.5500 - mae: 1.9943\n",
            "Epoch 54/100\n",
            "25/25 [==============================] - 0s 15ms/step - loss: 1.5192 - mae: 1.9589\n",
            "Epoch 55/100\n",
            "25/25 [==============================] - 0s 14ms/step - loss: 1.5000 - mae: 1.9407\n",
            "Epoch 56/100\n",
            "25/25 [==============================] - 0s 15ms/step - loss: 1.5533 - mae: 1.9976\n",
            "Epoch 57/100\n",
            "25/25 [==============================] - 0s 14ms/step - loss: 1.5137 - mae: 1.9581\n",
            "Epoch 58/100\n",
            "25/25 [==============================] - 0s 15ms/step - loss: 1.5443 - mae: 1.9882\n",
            "Epoch 59/100\n",
            "25/25 [==============================] - 0s 15ms/step - loss: 1.5143 - mae: 1.9589\n",
            "Epoch 60/100\n",
            "25/25 [==============================] - 0s 15ms/step - loss: 1.5099 - mae: 1.9502\n",
            "Epoch 61/100\n",
            "25/25 [==============================] - 0s 15ms/step - loss: 1.5018 - mae: 1.9439\n",
            "Epoch 62/100\n",
            "25/25 [==============================] - 0s 14ms/step - loss: 1.5380 - mae: 1.9819\n",
            "Epoch 63/100\n",
            "25/25 [==============================] - 0s 15ms/step - loss: 1.5083 - mae: 1.9532\n",
            "Epoch 64/100\n",
            "25/25 [==============================] - 0s 15ms/step - loss: 1.5133 - mae: 1.9546\n",
            "Epoch 65/100\n",
            "25/25 [==============================] - 0s 15ms/step - loss: 1.5638 - mae: 2.0107\n",
            "Epoch 66/100\n",
            "25/25 [==============================] - 0s 14ms/step - loss: 1.5372 - mae: 1.9811\n",
            "Epoch 67/100\n",
            "25/25 [==============================] - 0s 16ms/step - loss: 1.5166 - mae: 1.9543\n",
            "Epoch 68/100\n",
            "25/25 [==============================] - 0s 15ms/step - loss: 1.5566 - mae: 2.0014\n",
            "Epoch 69/100\n",
            "25/25 [==============================] - 0s 16ms/step - loss: 1.5045 - mae: 1.9484\n",
            "Epoch 70/100\n",
            "25/25 [==============================] - 0s 15ms/step - loss: 1.4905 - mae: 1.9314\n",
            "Epoch 71/100\n",
            "25/25 [==============================] - 0s 17ms/step - loss: 1.4948 - mae: 1.9364\n",
            "Epoch 72/100\n",
            "25/25 [==============================] - 0s 14ms/step - loss: 1.5636 - mae: 2.0085\n",
            "Epoch 73/100\n",
            "25/25 [==============================] - 0s 16ms/step - loss: 1.4998 - mae: 1.9413\n",
            "Epoch 74/100\n",
            "25/25 [==============================] - 0s 14ms/step - loss: 1.5471 - mae: 1.9904\n",
            "Epoch 75/100\n",
            "25/25 [==============================] - 0s 15ms/step - loss: 1.5338 - mae: 1.9779\n",
            "Epoch 76/100\n",
            "25/25 [==============================] - 0s 15ms/step - loss: 1.5083 - mae: 1.9497\n",
            "Epoch 77/100\n",
            "25/25 [==============================] - 0s 15ms/step - loss: 1.5078 - mae: 1.9497\n",
            "Epoch 78/100\n",
            "25/25 [==============================] - 0s 14ms/step - loss: 1.4880 - mae: 1.9293\n",
            "Epoch 79/100\n",
            "25/25 [==============================] - 0s 15ms/step - loss: 1.5171 - mae: 1.9605\n",
            "Epoch 80/100\n",
            "25/25 [==============================] - 0s 15ms/step - loss: 1.4933 - mae: 1.9348\n",
            "Epoch 81/100\n",
            "25/25 [==============================] - 0s 16ms/step - loss: 1.4856 - mae: 1.9261\n",
            "Epoch 82/100\n",
            "25/25 [==============================] - 0s 14ms/step - loss: 1.4870 - mae: 1.9281\n",
            "Epoch 83/100\n",
            "25/25 [==============================] - 0s 15ms/step - loss: 1.5199 - mae: 1.9619\n",
            "Epoch 84/100\n",
            "25/25 [==============================] - 0s 15ms/step - loss: 1.5109 - mae: 1.9557\n",
            "Epoch 85/100\n",
            "25/25 [==============================] - 0s 14ms/step - loss: 1.4930 - mae: 1.9354\n",
            "Epoch 86/100\n",
            "25/25 [==============================] - 0s 15ms/step - loss: 1.5048 - mae: 1.9454\n",
            "Epoch 87/100\n",
            "25/25 [==============================] - 0s 14ms/step - loss: 1.4939 - mae: 1.9351\n",
            "Epoch 88/100\n",
            "25/25 [==============================] - 0s 15ms/step - loss: 1.5084 - mae: 1.9506\n",
            "Epoch 89/100\n",
            "25/25 [==============================] - 0s 14ms/step - loss: 1.4881 - mae: 1.9281\n",
            "Epoch 90/100\n",
            "25/25 [==============================] - 0s 14ms/step - loss: 1.5137 - mae: 1.9568\n",
            "Epoch 91/100\n",
            "25/25 [==============================] - 0s 15ms/step - loss: 1.4924 - mae: 1.9348\n",
            "Epoch 92/100\n",
            "25/25 [==============================] - 0s 15ms/step - loss: 1.5067 - mae: 1.9504\n",
            "Epoch 93/100\n",
            "25/25 [==============================] - 0s 14ms/step - loss: 1.4802 - mae: 1.9211\n",
            "Epoch 94/100\n",
            "25/25 [==============================] - 0s 15ms/step - loss: 1.4907 - mae: 1.9321\n",
            "Epoch 95/100\n",
            "25/25 [==============================] - 0s 14ms/step - loss: 1.4980 - mae: 1.9408\n",
            "Epoch 96/100\n",
            "25/25 [==============================] - 0s 14ms/step - loss: 1.4969 - mae: 1.9415\n",
            "Epoch 97/100\n",
            "25/25 [==============================] - 0s 14ms/step - loss: 1.5090 - mae: 1.9517\n",
            "Epoch 98/100\n",
            "25/25 [==============================] - 0s 15ms/step - loss: 1.4927 - mae: 1.9345\n",
            "Epoch 99/100\n",
            "25/25 [==============================] - 0s 14ms/step - loss: 1.4739 - mae: 1.9140\n",
            "Epoch 100/100\n",
            "25/25 [==============================] - 0s 15ms/step - loss: 1.5580 - mae: 2.0055\n"
          ],
          "name": "stdout"
        }
      ]
    },
    {
      "cell_type": "code",
      "metadata": {
        "colab_type": "code",
        "id": "GaC6NNMRp0lb",
        "colab": {}
      },
      "source": [
        "rnn_forecast = model_forecast(model, series[..., np.newaxis], window_size)\n",
        "rnn_forecast = rnn_forecast[split_time - window_size:-1, -1, 0]"
      ],
      "execution_count": 0,
      "outputs": []
    },
    {
      "cell_type": "code",
      "metadata": {
        "colab_type": "code",
        "id": "izy6wl2S9d-2",
        "outputId": "aa46659c-20a7-4397-fe25-b40ab5e5b9d9",
        "colab": {
          "base_uri": "https://localhost:8080/",
          "height": 389
        }
      },
      "source": [
        "plt.figure(figsize=(10, 6))\n",
        "plot_series(time_valid, x_valid)\n",
        "plot_series(time_valid, rnn_forecast)\n",
        "\n",
        "# EXPECTED OUTPUT. PLOT SHOULD SHOW PROJECTIONS FOLLOWING ORIGINAL DATA CLOSELY"
      ],
      "execution_count": 0,
      "outputs": [
        {
          "output_type": "display_data",
          "data": {
            "image/png": "[encoded data removed]",
            "text/plain": [
              "<Figure size 720x432 with 1 Axes>"
            ]
          },
          "metadata": {
            "tags": [],
            "needs_background": "light"
          }
        }
      ]
    },
    {
      "cell_type": "code",
      "metadata": {
        "colab_type": "code",
        "id": "13XrorC5wQoE",
        "outputId": "f5429603-d648-47dd-976c-6aaaf33d82be",
        "colab": {
          "base_uri": "https://localhost:8080/",
          "height": 34
        }
      },
      "source": [
        "tf.keras.metrics.mean_absolute_error(x_valid, rnn_forecast).numpy()\n",
        "\n",
        "# EXPECTED OUTPUT MAE < 2 -- I GOT 1.789626"
      ],
      "execution_count": 0,
      "outputs": [
        {
          "output_type": "execute_result",
          "data": {
            "text/plain": [
              "1.8799866"
            ]
          },
          "metadata": {
            "tags": []
          },
          "execution_count": 41
        }
      ]
    },
    {
      "cell_type": "code",
      "metadata": {
        "colab_type": "code",
        "id": "AOVzQXxCwkzP",
        "outputId": "12b3d5fd-0ed8-4f8d-880f-dc2ce5f3d847",
        "colab": {
          "base_uri": "https://localhost:8080/",
          "height": 34
        }
      },
      "source": [
        "print(rnn_forecast)\n",
        "# EXPECTED OUTPUT -- ARRAY OF VALUES IN THE LOW TEENS"
      ],
      "execution_count": 0,
      "outputs": [
        {
          "output_type": "stream",
          "text": [
            "[10.760231   9.966553  10.660313  ... 13.309878  13.586527  15.0673685]\n"
          ],
          "name": "stdout"
        }
      ]
    },
    {
      "cell_type": "code",
      "metadata": {
        "id": "qEHzQL2mXVA0",
        "colab_type": "code",
        "outputId": "4565ed6a-4318-4cc4-94fb-0c40dd4c4520",
        "colab": {
          "base_uri": "https://localhost:8080/",
          "height": 607
        }
      },
      "source": [
        "import matplotlib.image  as mpimg\n",
        "import matplotlib.pyplot as plt\n",
        "\n",
        "#-----------------------------------------------------------\n",
        "# Retrieve a list of list results on training and test data\n",
        "# sets for each training epoch\n",
        "#-----------------------------------------------------------\n",
        "loss=history.history['loss']\n",
        "\n",
        "epochs=range(len(loss)) # Get number of epochs\n",
        "\n",
        "#------------------------------------------------\n",
        "# Plot training and validation loss per epoch\n",
        "#------------------------------------------------\n",
        "plt.plot(epochs, loss, 'r')\n",
        "plt.title('Training loss')\n",
        "plt.xlabel(\"Epochs\")\n",
        "plt.ylabel(\"Loss\")\n",
        "plt.legend([\"Loss\"])\n",
        "\n",
        "plt.figure()\n",
        "\n",
        "zoomed_loss = loss[20:]\n",
        "zoomed_epochs = range(20,100)\n",
        "\n",
        "#------------------------------------------------\n",
        "# Plot training and validation loss per epoch\n",
        "#------------------------------------------------\n",
        "plt.plot(zoomed_epochs, zoomed_loss, 'r')\n",
        "plt.title('Training loss')\n",
        "plt.xlabel(\"Epochs\")\n",
        "plt.ylabel(\"Loss\")\n",
        "plt.legend([\"Loss\"])\n",
        "\n",
        "plt.figure()"
      ],
      "execution_count": 0,
      "outputs": [
        {
          "output_type": "execute_result",
          "data": {
            "text/plain": [
              "<Figure size 432x288 with 0 Axes>"
            ]
          },
          "metadata": {
            "tags": []
          },
          "execution_count": 44
        },
        {
          "output_type": "display_data",
          "data": {
            "image/png": "[encoded data removed]",
            "text/plain": [
              "<Figure size 432x288 with 1 Axes>"
            ]
          },
          "metadata": {
            "tags": [],
            "needs_background": "light"
          }
        },
        {
          "output_type": "display_data",
          "data": {
            "image/png": "[encoded data removed]",
            "text/plain": [
              "<Figure size 432x288 with 1 Axes>"
            ]
          },
          "metadata": {
            "tags": [],
            "needs_background": "light"
          }
        },
        {
          "output_type": "display_data",
          "data": {
            "text/plain": [
              "<Figure size 432x288 with 0 Axes>"
            ]
          },
          "metadata": {
            "tags": []
          }
        }
      ]
    },
    {
      "cell_type": "code",
      "metadata": {
        "id": "BUa9IAE5XeNh",
        "colab_type": "code",
        "colab": {}
      },
      "source": [
        ""
      ],
      "execution_count": 0,
      "outputs": []
    }
  ]
}